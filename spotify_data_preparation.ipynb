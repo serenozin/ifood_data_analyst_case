{
 "cells": [
  {
   "cell_type": "markdown",
   "id": "981392cf-dccf-49c6-b5df-dd43ddfaa1d7",
   "metadata": {
    "tags": []
   },
   "source": [
    "# Self streaming data load"
   ]
  },
  {
   "cell_type": "code",
   "execution_count": 4,
   "id": "29be35f4-6cec-40e0-b6b8-3d6e07d750f7",
   "metadata": {},
   "outputs": [],
   "source": [
    "import pandas as pd "
   ]
  },
  {
   "cell_type": "code",
   "execution_count": 72,
   "id": "45f9f4ec-e092-4eb6-8592-15bdabe2cf1d",
   "metadata": {},
   "outputs": [],
   "source": [
    "history_0 = pd.read_json('StreamingHistory0.json')\n",
    "history_1 = pd.read_json('StreamingHistory1.json')"
   ]
  },
  {
   "cell_type": "code",
   "execution_count": 73,
   "id": "237f9313-a90f-490a-b208-6745e86b3aef",
   "metadata": {},
   "outputs": [],
   "source": [
    "df = pd.concat([history_0, history_1])"
   ]
  },
  {
   "cell_type": "code",
   "execution_count": 74,
   "id": "b9ea29f9-686a-4b39-b8a4-1fe0bae4146f",
   "metadata": {},
   "outputs": [
    {
     "data": {
      "text/plain": [
       "(10769, 4)"
      ]
     },
     "execution_count": 74,
     "metadata": {},
     "output_type": "execute_result"
    }
   ],
   "source": [
    "df.shape"
   ]
  },
  {
   "cell_type": "code",
   "execution_count": 75,
   "id": "3d82827a-8735-473c-b151-772b98ea3055",
   "metadata": {},
   "outputs": [
    {
     "data": {
      "text/html": [
       "<div>\n",
       "<style scoped>\n",
       "    .dataframe tbody tr th:only-of-type {\n",
       "        vertical-align: middle;\n",
       "    }\n",
       "\n",
       "    .dataframe tbody tr th {\n",
       "        vertical-align: top;\n",
       "    }\n",
       "\n",
       "    .dataframe thead th {\n",
       "        text-align: right;\n",
       "    }\n",
       "</style>\n",
       "<table border=\"1\" class=\"dataframe\">\n",
       "  <thead>\n",
       "    <tr style=\"text-align: right;\">\n",
       "      <th></th>\n",
       "      <th>endTime</th>\n",
       "      <th>artistName</th>\n",
       "      <th>trackName</th>\n",
       "      <th>msPlayed</th>\n",
       "    </tr>\n",
       "  </thead>\n",
       "  <tbody>\n",
       "    <tr>\n",
       "      <th>0</th>\n",
       "      <td>2020-08-17 19:33</td>\n",
       "      <td>Hz.</td>\n",
       "      <td>yearning</td>\n",
       "      <td>127989</td>\n",
       "    </tr>\n",
       "    <tr>\n",
       "      <th>1</th>\n",
       "      <td>2020-08-17 19:35</td>\n",
       "      <td>Flughand</td>\n",
       "      <td>Hylla</td>\n",
       "      <td>130544</td>\n",
       "    </tr>\n",
       "    <tr>\n",
       "      <th>2</th>\n",
       "      <td>2020-08-17 19:37</td>\n",
       "      <td>Extra|ordinary</td>\n",
       "      <td>Fable</td>\n",
       "      <td>127989</td>\n",
       "    </tr>\n",
       "    <tr>\n",
       "      <th>3</th>\n",
       "      <td>2020-08-17 19:38</td>\n",
       "      <td>Sooda</td>\n",
       "      <td>Exhale</td>\n",
       "      <td>63995</td>\n",
       "    </tr>\n",
       "    <tr>\n",
       "      <th>4</th>\n",
       "      <td>2020-08-17 19:41</td>\n",
       "      <td>FloFilz</td>\n",
       "      <td>Dulce</td>\n",
       "      <td>131558</td>\n",
       "    </tr>\n",
       "  </tbody>\n",
       "</table>\n",
       "</div>"
      ],
      "text/plain": [
       "            endTime      artistName trackName  msPlayed\n",
       "0  2020-08-17 19:33             Hz.  yearning    127989\n",
       "1  2020-08-17 19:35        Flughand     Hylla    130544\n",
       "2  2020-08-17 19:37  Extra|ordinary     Fable    127989\n",
       "3  2020-08-17 19:38           Sooda    Exhale     63995\n",
       "4  2020-08-17 19:41         FloFilz     Dulce    131558"
      ]
     },
     "execution_count": 75,
     "metadata": {},
     "output_type": "execute_result"
    }
   ],
   "source": [
    "df.head()"
   ]
  },
  {
   "cell_type": "markdown",
   "id": "fb106be5-08fd-4f83-be42-72e15763c6af",
   "metadata": {},
   "source": [
    "I will convert the listened time, which is like milliseconds, to minutes. \n",
    "For a better understanding"
   ]
  },
  {
   "cell_type": "code",
   "execution_count": 76,
   "id": "10033afc-5b75-47d2-946c-ee505208342f",
   "metadata": {},
   "outputs": [],
   "source": [
    "df['minPlayed'] = pd.to_datetime(df.msPlayed, unit='ms').dt.minute"
   ]
  },
  {
   "cell_type": "markdown",
   "id": "faf064a8-78c1-4e6f-904f-4d5ed69f1f3b",
   "metadata": {},
   "source": [
    "Parsing the listened time date to datetime object. To be more manageable"
   ]
  },
  {
   "cell_type": "code",
   "execution_count": 77,
   "id": "e43e2a87-b244-4de0-8543-33f814375446",
   "metadata": {},
   "outputs": [],
   "source": [
    "df['endTime'] = pd.to_datetime(df['endTime'])"
   ]
  },
  {
   "cell_type": "code",
   "execution_count": null,
   "id": "4aa7cac0-9a7f-41bf-af85-6025ccb1e725",
   "metadata": {},
   "outputs": [],
   "source": []
  },
  {
   "cell_type": "markdown",
   "id": "03d3fecc-354c-4199-9a7e-377186b585f4",
   "metadata": {
    "jp-MarkdownHeadingCollapsed": true,
    "tags": []
   },
   "source": [
    "#### What are the most listened artists?"
   ]
  },
  {
   "cell_type": "code",
   "execution_count": 13,
   "id": "87e6d2b0-a18f-4793-ae75-b253bdcc7656",
   "metadata": {},
   "outputs": [
    {
     "data": {
      "text/html": [
       "<div>\n",
       "<style scoped>\n",
       "    .dataframe tbody tr th:only-of-type {\n",
       "        vertical-align: middle;\n",
       "    }\n",
       "\n",
       "    .dataframe tbody tr th {\n",
       "        vertical-align: top;\n",
       "    }\n",
       "\n",
       "    .dataframe thead th {\n",
       "        text-align: right;\n",
       "    }\n",
       "</style>\n",
       "<table border=\"1\" class=\"dataframe\">\n",
       "  <thead>\n",
       "    <tr style=\"text-align: right;\">\n",
       "      <th></th>\n",
       "      <th>minPlayed</th>\n",
       "    </tr>\n",
       "    <tr>\n",
       "      <th>artistName</th>\n",
       "      <th></th>\n",
       "    </tr>\n",
       "  </thead>\n",
       "  <tbody>\n",
       "    <tr>\n",
       "      <th>FKJ</th>\n",
       "      <td>1798</td>\n",
       "    </tr>\n",
       "    <tr>\n",
       "      <th>Hot e Oreia</th>\n",
       "      <td>1356</td>\n",
       "    </tr>\n",
       "    <tr>\n",
       "      <th>Don L</th>\n",
       "      <td>906</td>\n",
       "    </tr>\n",
       "    <tr>\n",
       "      <th>Kali Uchis</th>\n",
       "      <td>750</td>\n",
       "    </tr>\n",
       "    <tr>\n",
       "      <th>Matuê</th>\n",
       "      <td>743</td>\n",
       "    </tr>\n",
       "    <tr>\n",
       "      <th>Tyler, The Creator</th>\n",
       "      <td>607</td>\n",
       "    </tr>\n",
       "    <tr>\n",
       "      <th>Black Alien</th>\n",
       "      <td>587</td>\n",
       "    </tr>\n",
       "    <tr>\n",
       "      <th>Luedji Luna</th>\n",
       "      <td>555</td>\n",
       "    </tr>\n",
       "    <tr>\n",
       "      <th>The Internet</th>\n",
       "      <td>552</td>\n",
       "    </tr>\n",
       "    <tr>\n",
       "      <th>Potyguara Bardo</th>\n",
       "      <td>440</td>\n",
       "    </tr>\n",
       "  </tbody>\n",
       "</table>\n",
       "</div>"
      ],
      "text/plain": [
       "                    minPlayed\n",
       "artistName                   \n",
       "FKJ                      1798\n",
       "Hot e Oreia              1356\n",
       "Don L                     906\n",
       "Kali Uchis                750\n",
       "Matuê                     743\n",
       "Tyler, The Creator        607\n",
       "Black Alien               587\n",
       "Luedji Luna               555\n",
       "The Internet              552\n",
       "Potyguara Bardo           440"
      ]
     },
     "execution_count": 13,
     "metadata": {},
     "output_type": "execute_result"
    }
   ],
   "source": [
    "df.groupby('artistName').agg({'minPlayed': 'sum'}).sort_values(by='minPlayed', ascending=False).head(10)"
   ]
  },
  {
   "cell_type": "markdown",
   "id": "62885b1e-19ee-4edb-94b6-768f4d16c037",
   "metadata": {
    "jp-MarkdownHeadingCollapsed": true,
    "tags": []
   },
   "source": [
    "#### What are the most listened tracks?"
   ]
  },
  {
   "cell_type": "code",
   "execution_count": 14,
   "id": "2d08a4ae-316d-477d-9ff6-e4f0906be255",
   "metadata": {
    "tags": []
   },
   "outputs": [
    {
     "data": {
      "text/html": [
       "<div>\n",
       "<style scoped>\n",
       "    .dataframe tbody tr th:only-of-type {\n",
       "        vertical-align: middle;\n",
       "    }\n",
       "\n",
       "    .dataframe tbody tr th {\n",
       "        vertical-align: top;\n",
       "    }\n",
       "\n",
       "    .dataframe thead th {\n",
       "        text-align: right;\n",
       "    }\n",
       "</style>\n",
       "<table border=\"1\" class=\"dataframe\">\n",
       "  <thead>\n",
       "    <tr style=\"text-align: right;\">\n",
       "      <th></th>\n",
       "      <th>minPlayed</th>\n",
       "    </tr>\n",
       "    <tr>\n",
       "      <th>trackName</th>\n",
       "      <th></th>\n",
       "    </tr>\n",
       "  </thead>\n",
       "  <tbody>\n",
       "    <tr>\n",
       "      <th>Ylang Ylang</th>\n",
       "      <td>423</td>\n",
       "    </tr>\n",
       "    <tr>\n",
       "      <th>Easy</th>\n",
       "      <td>410</td>\n",
       "    </tr>\n",
       "    <tr>\n",
       "      <th>Summer Nights</th>\n",
       "      <td>356</td>\n",
       "    </tr>\n",
       "    <tr>\n",
       "      <th>Risk</th>\n",
       "      <td>346</td>\n",
       "    </tr>\n",
       "    <tr>\n",
       "      <th>Brother</th>\n",
       "      <td>329</td>\n",
       "    </tr>\n",
       "    <tr>\n",
       "      <th>10 Years Ago</th>\n",
       "      <td>253</td>\n",
       "    </tr>\n",
       "    <tr>\n",
       "      <th>Aquela Fé</th>\n",
       "      <td>246</td>\n",
       "    </tr>\n",
       "    <tr>\n",
       "      <th>Salve</th>\n",
       "      <td>242</td>\n",
       "    </tr>\n",
       "    <tr>\n",
       "      <th>Perdida</th>\n",
       "      <td>230</td>\n",
       "    </tr>\n",
       "    <tr>\n",
       "      <th>100 Roses</th>\n",
       "      <td>220</td>\n",
       "    </tr>\n",
       "  </tbody>\n",
       "</table>\n",
       "</div>"
      ],
      "text/plain": [
       "               minPlayed\n",
       "trackName               \n",
       "Ylang Ylang          423\n",
       "Easy                 410\n",
       "Summer Nights        356\n",
       "Risk                 346\n",
       "Brother              329\n",
       "10 Years Ago         253\n",
       "Aquela Fé            246\n",
       "Salve                242\n",
       "Perdida              230\n",
       "100 Roses            220"
      ]
     },
     "execution_count": 14,
     "metadata": {},
     "output_type": "execute_result"
    }
   ],
   "source": [
    "df.groupby('trackName').agg({'minPlayed': 'sum'}).sort_values(by='minPlayed', ascending=False).head(10)"
   ]
  },
  {
   "cell_type": "markdown",
   "id": "5a690e3b-2f26-45ab-b0a3-d0f20ecc32b1",
   "metadata": {
    "tags": []
   },
   "source": [
    "# Getting track details from Spotify API"
   ]
  },
  {
   "cell_type": "code",
   "execution_count": 78,
   "id": "7dd89bc7-e8b1-4b0e-ad85-964323dcc0b4",
   "metadata": {},
   "outputs": [],
   "source": [
    "import spotipy.util as util\n",
    "import spotipy\n",
    "import requests"
   ]
  },
  {
   "cell_type": "markdown",
   "id": "aec39e2d-67bd-418e-8ebc-985c9c07bc78",
   "metadata": {},
   "source": [
    "Instantiating the token and Spotpy lib"
   ]
  },
  {
   "cell_type": "code",
   "execution_count": 227,
   "id": "df4ada7f-fefc-4233-9448-ce8f591f2252",
   "metadata": {},
   "outputs": [],
   "source": [
    "username = 'patryckharley'\n",
    "client_id ='a9dc410f9af04288a5dadb85980b7da6'\n",
    "client_secret = '1d49736adab64e458b258beeb0396c85'\n",
    "redirect_uri = 'http://localhost:7777/callback'\n",
    "scope = 'user-read-recently-played'\n",
    "\n",
    "token = util.prompt_for_user_token(username=username, \n",
    "                                   scope=scope, \n",
    "                                   client_id=client_id,   \n",
    "                                   client_secret=client_secret,     \n",
    "                                   redirect_uri=redirect_uri)\n",
    "\n",
    "sp = spotipy.Spotify(auth=token)"
   ]
  },
  {
   "cell_type": "markdown",
   "id": "f6193f6a-57e8-4c03-93ac-c241fb715e0b",
   "metadata": {
    "tags": []
   },
   "source": [
    "## Getting track and episode IDs"
   ]
  },
  {
   "cell_type": "markdown",
   "id": "13c95198-31c7-4010-9b89-5f220fd7baaf",
   "metadata": {},
   "source": [
    "The API has diferent endpoints to podcasts and musics"
   ]
  },
  {
   "cell_type": "code",
   "execution_count": 103,
   "id": "ccc6d8f6-0df2-469b-9ed5-07bf90071133",
   "metadata": {},
   "outputs": [],
   "source": [
    "def get_id(search_name, search_type):\n",
    "    '''\n",
    "    Search Spotify content and return her ID\n",
    "    '''\n",
    "    try:\n",
    "        response = sp.search(search_name, type=search_type)\n",
    "        first_result = response[search_type+'s']['items'][0]\n",
    "        track_id = first_result['id']\n",
    "        return track_id\n",
    "    except:\n",
    "        return None"
   ]
  },
  {
   "cell_type": "markdown",
   "id": "9e264d35-3f07-4e7b-8192-655e4f38a629",
   "metadata": {},
   "source": [
    "The search of the API is some slow. So I will create a unique tracks dataframe, for minimize the requests time."
   ]
  },
  {
   "cell_type": "code",
   "execution_count": 104,
   "id": "d495b5b7-c44e-421d-bcf7-c3fab6c1e672",
   "metadata": {},
   "outputs": [],
   "source": [
    "unique_tracks = df.groupby(['artistName', 'trackName'], as_index=False).size()"
   ]
  },
  {
   "cell_type": "code",
   "execution_count": 105,
   "id": "92fb49dc-16ad-4e57-b912-76e553b069ba",
   "metadata": {},
   "outputs": [
    {
     "data": {
      "text/plain": [
       "(1829, 3)"
      ]
     },
     "execution_count": 105,
     "metadata": {},
     "output_type": "execute_result"
    }
   ],
   "source": [
    "unique_tracks.shape"
   ]
  },
  {
   "cell_type": "markdown",
   "id": "1cbf063f-bbea-4ac5-84a4-cd22007814ce",
   "metadata": {},
   "source": [
    "Applying get_id function for each unique track"
   ]
  },
  {
   "cell_type": "code",
   "execution_count": 106,
   "id": "2561e56b-0af0-4fcf-9f22-739f72b1140f",
   "metadata": {
    "tags": []
   },
   "outputs": [],
   "source": [
    "unique_tracks['trackId'] = unique_tracks.apply(\n",
    "    lambda x: \n",
    "        get_id(\n",
    "            x['trackName'] + ' ' + x['artistName'], \n",
    "            'track'\n",
    "        ), \n",
    "        axis='columns')"
   ]
  },
  {
   "cell_type": "markdown",
   "id": "2f9c9cc3-5281-43e5-bf06-b68ca4bf57b2",
   "metadata": {},
   "source": [
    "The track which was not finded is a podcast, or does not exist anymore. So let's search the podcast episodes IDs for the null fields"
   ]
  },
  {
   "cell_type": "code",
   "execution_count": 125,
   "id": "2a79e7f5-1f1c-4574-a00f-48cba82f920c",
   "metadata": {},
   "outputs": [],
   "source": [
    "track_isna = unique_tracks['trackId'].isna()"
   ]
  },
  {
   "cell_type": "code",
   "execution_count": 111,
   "id": "884d6a4a-f0f2-4f4b-8568-d361f611af01",
   "metadata": {},
   "outputs": [],
   "source": [
    "unique_tracks['type'] = ''"
   ]
  },
  {
   "cell_type": "code",
   "execution_count": 112,
   "id": "f9899628-d7fc-492a-814d-559c56dffd67",
   "metadata": {
    "collapsed": true,
    "jupyter": {
     "outputs_hidden": true
    },
    "tags": []
   },
   "outputs": [
    {
     "name": "stderr",
     "output_type": "stream",
     "text": [
      "<ipython-input-112-d646df6825cf>:1: SettingWithCopyWarning: \n",
      "A value is trying to be set on a copy of a slice from a DataFrame\n",
      "\n",
      "See the caveats in the documentation: https://pandas.pydata.org/pandas-docs/stable/user_guide/indexing.html#returning-a-view-versus-a-copy\n",
      "  unique_tracks['type'][track_isna == False] = 'music'\n"
     ]
    }
   ],
   "source": [
    "unique_tracks['type'][track_isna == False] = 'music'"
   ]
  },
  {
   "cell_type": "code",
   "execution_count": 113,
   "id": "1b65e99e-afae-4713-af3e-2e6e599aa127",
   "metadata": {
    "collapsed": true,
    "jupyter": {
     "outputs_hidden": true
    },
    "tags": []
   },
   "outputs": [
    {
     "name": "stderr",
     "output_type": "stream",
     "text": [
      "<ipython-input-113-b8a089ada91b>:1: SettingWithCopyWarning: \n",
      "A value is trying to be set on a copy of a slice from a DataFrame\n",
      "\n",
      "See the caveats in the documentation: https://pandas.pydata.org/pandas-docs/stable/user_guide/indexing.html#returning-a-view-versus-a-copy\n",
      "  unique_tracks['type'][track_isna] = 'podcast'\n"
     ]
    }
   ],
   "source": [
    "unique_tracks['type'][track_isna] = 'podcast'"
   ]
  },
  {
   "cell_type": "markdown",
   "id": "e27369c6-4108-4b2c-9400-7cb727399fc2",
   "metadata": {},
   "source": [
    "Applying get_id function for each unique podcast"
   ]
  },
  {
   "cell_type": "code",
   "execution_count": 122,
   "id": "234495f6-9059-440b-9490-326762df1477",
   "metadata": {
    "collapsed": true,
    "jupyter": {
     "outputs_hidden": true
    },
    "tags": []
   },
   "outputs": [
    {
     "name": "stderr",
     "output_type": "stream",
     "text": [
      "<ipython-input-122-523bff1813d3>:1: SettingWithCopyWarning: \n",
      "A value is trying to be set on a copy of a slice from a DataFrame\n",
      "\n",
      "See the caveats in the documentation: https://pandas.pydata.org/pandas-docs/stable/user_guide/indexing.html#returning-a-view-versus-a-copy\n",
      "  unique_tracks['trackId'][track_isna] = (\n"
     ]
    }
   ],
   "source": [
    "unique_tracks['trackId'][track_isna] = (\n",
    "    unique_tracks[track_isna].apply(\n",
    "        lambda x: \n",
    "            get_id(\n",
    "                x['trackName'] + ' ' + x['artistName'], \n",
    "                'episode'\n",
    "            ), \n",
    "        axis='columns'\n",
    "    )\n",
    ")"
   ]
  },
  {
   "cell_type": "markdown",
   "id": "f2e9587c-f000-415d-95b3-1f4309415c28",
   "metadata": {},
   "source": [
    "Now, I will drop the intances who are not track or podcast. They do not exist anymore, I checked in my Spotify app "
   ]
  },
  {
   "cell_type": "code",
   "execution_count": 142,
   "id": "1540c607-7cf0-4269-9e77-7e998c1daf33",
   "metadata": {},
   "outputs": [],
   "source": [
    "unique_tracks = unique_tracks[unique_tracks['trackId'].isna() == False]"
   ]
  },
  {
   "cell_type": "code",
   "execution_count": 152,
   "id": "379fe099-32a1-4cdc-9184-d6e3bb7430ff",
   "metadata": {},
   "outputs": [
    {
     "data": {
      "text/html": [
       "<div>\n",
       "<style scoped>\n",
       "    .dataframe tbody tr th:only-of-type {\n",
       "        vertical-align: middle;\n",
       "    }\n",
       "\n",
       "    .dataframe tbody tr th {\n",
       "        vertical-align: top;\n",
       "    }\n",
       "\n",
       "    .dataframe thead th {\n",
       "        text-align: right;\n",
       "    }\n",
       "</style>\n",
       "<table border=\"1\" class=\"dataframe\">\n",
       "  <thead>\n",
       "    <tr style=\"text-align: right;\">\n",
       "      <th></th>\n",
       "      <th>artistName</th>\n",
       "      <th>trackName</th>\n",
       "      <th>size</th>\n",
       "      <th>trackId</th>\n",
       "      <th>type</th>\n",
       "      <th>artistId</th>\n",
       "    </tr>\n",
       "  </thead>\n",
       "  <tbody>\n",
       "    <tr>\n",
       "      <th>0</th>\n",
       "      <td>((( O )))</td>\n",
       "      <td>iFeel</td>\n",
       "      <td>6</td>\n",
       "      <td>4QAW32QlMwE9TWtI1UFGwf</td>\n",
       "      <td>music</td>\n",
       "      <td>5Lv2GUVwqmQBPwrTrxucE5</td>\n",
       "    </tr>\n",
       "    <tr>\n",
       "      <th>1</th>\n",
       "      <td>*NSYNC</td>\n",
       "      <td>Bye Bye Bye</td>\n",
       "      <td>3</td>\n",
       "      <td>62bOmKYxYg7dhrC6gH9vFn</td>\n",
       "      <td>music</td>\n",
       "      <td>6Ff53KvcvAj5U7Z1vojB5o</td>\n",
       "    </tr>\n",
       "    <tr>\n",
       "      <th>2</th>\n",
       "      <td>070 Shake</td>\n",
       "      <td>Guilty Conscience - Tame Impala Remix Instrume...</td>\n",
       "      <td>1</td>\n",
       "      <td>2nwc1w2yyOXPCyTaphRQGN</td>\n",
       "      <td>music</td>\n",
       "      <td>12Zk1DFhCbHY6v3xep2ZjI</td>\n",
       "    </tr>\n",
       "    <tr>\n",
       "      <th>3</th>\n",
       "      <td>3 Na Massa</td>\n",
       "      <td>Morada Boa Featuring Nina Miranda</td>\n",
       "      <td>1</td>\n",
       "      <td>5x4KSfOm9Bc1ugelLYe4AG</td>\n",
       "      <td>music</td>\n",
       "      <td>1swmzlKgFluITKhxSV9ixX</td>\n",
       "    </tr>\n",
       "    <tr>\n",
       "      <th>4</th>\n",
       "      <td>3030</td>\n",
       "      <td>Meu Jardim</td>\n",
       "      <td>1</td>\n",
       "      <td>2unNoJKEtFewEMojsm1i0X</td>\n",
       "      <td>music</td>\n",
       "      <td>3OHpci0ruhvaMv9F795LR5</td>\n",
       "    </tr>\n",
       "  </tbody>\n",
       "</table>\n",
       "</div>"
      ],
      "text/plain": [
       "   artistName                                          trackName  size  \\\n",
       "0   ((( O )))                                              iFeel     6   \n",
       "1      *NSYNC                                        Bye Bye Bye     3   \n",
       "2   070 Shake  Guilty Conscience - Tame Impala Remix Instrume...     1   \n",
       "3  3 Na Massa                  Morada Boa Featuring Nina Miranda     1   \n",
       "4        3030                                         Meu Jardim     1   \n",
       "\n",
       "                  trackId   type                artistId  \n",
       "0  4QAW32QlMwE9TWtI1UFGwf  music  5Lv2GUVwqmQBPwrTrxucE5  \n",
       "1  62bOmKYxYg7dhrC6gH9vFn  music  6Ff53KvcvAj5U7Z1vojB5o  \n",
       "2  2nwc1w2yyOXPCyTaphRQGN  music  12Zk1DFhCbHY6v3xep2ZjI  \n",
       "3  5x4KSfOm9Bc1ugelLYe4AG  music  1swmzlKgFluITKhxSV9ixX  \n",
       "4  2unNoJKEtFewEMojsm1i0X  music  3OHpci0ruhvaMv9F795LR5  "
      ]
     },
     "execution_count": 152,
     "metadata": {},
     "output_type": "execute_result"
    }
   ],
   "source": [
    "unique_tracks.head()"
   ]
  },
  {
   "cell_type": "markdown",
   "id": "61b71cc0-1338-4d9c-8a1a-6e5e0396cd1d",
   "metadata": {},
   "source": [
    "Here I get the artist IDs, with the same logic of the tracks"
   ]
  },
  {
   "cell_type": "code",
   "execution_count": 138,
   "id": "958931dc-0ace-44e4-97dc-82a1fff73692",
   "metadata": {},
   "outputs": [],
   "source": [
    "unique_tracks['artistId'] = (\n",
    "    unique_tracks['artistName'].apply(\n",
    "        lambda x: \n",
    "            get_id(x, 'artist')\n",
    "    )\n",
    ")"
   ]
  },
  {
   "cell_type": "code",
   "execution_count": 149,
   "id": "7ca3bcf8-e9be-4ada-9101-531aa40dfde3",
   "metadata": {},
   "outputs": [],
   "source": [
    "artist_isna = unique_tracks['artistId'].isna()"
   ]
  },
  {
   "cell_type": "code",
   "execution_count": 148,
   "id": "a17a9175-60aa-439c-a66c-ee41798fce6b",
   "metadata": {
    "collapsed": true,
    "jupyter": {
     "outputs_hidden": true
    },
    "tags": []
   },
   "outputs": [
    {
     "name": "stderr",
     "output_type": "stream",
     "text": [
      "<ipython-input-148-87caa60a2217>:1: SettingWithCopyWarning: \n",
      "A value is trying to be set on a copy of a slice from a DataFrame\n",
      "\n",
      "See the caveats in the documentation: https://pandas.pydata.org/pandas-docs/stable/user_guide/indexing.html#returning-a-view-versus-a-copy\n",
      "  unique_tracks['artistId'][artist_isna] = (\n",
      "C:\\Users\\patry\\Anaconda3\\envs\\aula\\lib\\site-packages\\pandas\\core\\generic.py:8861: SettingWithCopyWarning: \n",
      "A value is trying to be set on a copy of a slice from a DataFrame\n",
      "\n",
      "See the caveats in the documentation: https://pandas.pydata.org/pandas-docs/stable/user_guide/indexing.html#returning-a-view-versus-a-copy\n",
      "  return self._update_inplace(result)\n"
     ]
    }
   ],
   "source": [
    "unique_tracks['artistId'][artist_isna] = (\n",
    "    unique_tracks[artist_isna]['artistName'].apply(\n",
    "        lambda x: \n",
    "            get_id(x, 'show')\n",
    "    )\n",
    ")"
   ]
  },
  {
   "cell_type": "markdown",
   "id": "44391581-25dd-44c5-b665-d831182e2e3c",
   "metadata": {},
   "source": [
    "Now I can join the complete streaming history dataframe wiht the unique tracks dataframe"
   ]
  },
  {
   "cell_type": "code",
   "execution_count": 154,
   "id": "c7aa1e98-bb56-4a21-87f6-beb7ce427b6a",
   "metadata": {},
   "outputs": [],
   "source": [
    "df = df.merge(unique_tracks[['type', 'artistName', 'trackName', 'trackId', 'artistId']])"
   ]
  },
  {
   "cell_type": "code",
   "execution_count": 157,
   "id": "a3db8d29-21c5-4e8d-a694-70bdfd3d20aa",
   "metadata": {},
   "outputs": [
    {
     "name": "stdout",
     "output_type": "stream",
     "text": [
      "<class 'pandas.core.frame.DataFrame'>\n",
      "Int64Index: 10749 entries, 0 to 10748\n",
      "Data columns (total 8 columns):\n",
      " #   Column      Non-Null Count  Dtype         \n",
      "---  ------      --------------  -----         \n",
      " 0   endTime     10749 non-null  datetime64[ns]\n",
      " 1   artistName  10749 non-null  object        \n",
      " 2   trackName   10749 non-null  object        \n",
      " 3   msPlayed    10749 non-null  int64         \n",
      " 4   minPlayed   10749 non-null  int64         \n",
      " 5   type        10749 non-null  object        \n",
      " 6   trackId     10749 non-null  object        \n",
      " 7   artistId    10749 non-null  object        \n",
      "dtypes: datetime64[ns](1), int64(2), object(5)\n",
      "memory usage: 755.8+ KB\n"
     ]
    }
   ],
   "source": [
    "df.info()"
   ]
  },
  {
   "cell_type": "code",
   "execution_count": 158,
   "id": "5e0191be-d60b-4ecf-a199-236ffa6d58f9",
   "metadata": {},
   "outputs": [],
   "source": [
    "df.to_csv('spotify_history.csv', index=False)"
   ]
  },
  {
   "cell_type": "markdown",
   "id": "aea26e5f-db13-4d1f-9392-1d2e345dc2c4",
   "metadata": {},
   "source": [
    "## Getting artist and track details"
   ]
  },
  {
   "cell_type": "code",
   "execution_count": 26,
   "id": "296a11d7-9ea0-4692-90cc-33366aec51e6",
   "metadata": {},
   "outputs": [],
   "source": [
    "df = pd.read_csv('spotify_history.csv')"
   ]
  },
  {
   "cell_type": "code",
   "execution_count": 159,
   "id": "5aee71f1-aac9-4662-92cd-01bb751f410f",
   "metadata": {},
   "outputs": [],
   "source": [
    "is_track = df['type'] == 'music'"
   ]
  },
  {
   "cell_type": "markdown",
   "id": "5c0ef72b-e8cf-4813-a9ec-38ec166bbc20",
   "metadata": {
    "tags": []
   },
   "source": [
    "## Artist details"
   ]
  },
  {
   "cell_type": "markdown",
   "id": "50fa0d0b-d727-41e4-acdd-abec49f7d66c",
   "metadata": {},
   "source": [
    "To do not a messy in the streaming history table, I will create a table with just the artists details."
   ]
  },
  {
   "cell_type": "code",
   "execution_count": 175,
   "id": "7b51521b-84a4-446f-8254-ae5af08c1946",
   "metadata": {
    "tags": []
   },
   "outputs": [],
   "source": [
    "artist_id_list = df[df['type'] == 'music']['artistId'].unique()\n",
    "artist_list = []\n",
    "counter = 0\n",
    "\n",
    "for interval in range(0, len(artist_id_list), 50):\n",
    "    if len(artist_id_list) - (counter + 50) > 0:\n",
    "        artist_list += sp.artists(artist_id_list[interval:interval+50])['artists']\n",
    "    else: \n",
    "        artist_list += sp.artists(artist_id_list[interval:])['artists']\n",
    "    counter += 50    "
   ]
  },
  {
   "cell_type": "code",
   "execution_count": 177,
   "id": "53646039-316f-4c75-aada-0c93a8535515",
   "metadata": {},
   "outputs": [],
   "source": [
    "df_artists = pd.json_normalize(artist_list)"
   ]
  },
  {
   "cell_type": "code",
   "execution_count": 179,
   "id": "eb733337-596e-465c-97d4-ad276ca1ed53",
   "metadata": {},
   "outputs": [
    {
     "data": {
      "text/html": [
       "<div>\n",
       "<style scoped>\n",
       "    .dataframe tbody tr th:only-of-type {\n",
       "        vertical-align: middle;\n",
       "    }\n",
       "\n",
       "    .dataframe tbody tr th {\n",
       "        vertical-align: top;\n",
       "    }\n",
       "\n",
       "    .dataframe thead th {\n",
       "        text-align: right;\n",
       "    }\n",
       "</style>\n",
       "<table border=\"1\" class=\"dataframe\">\n",
       "  <thead>\n",
       "    <tr style=\"text-align: right;\">\n",
       "      <th></th>\n",
       "      <th>genres</th>\n",
       "      <th>href</th>\n",
       "      <th>id</th>\n",
       "      <th>images</th>\n",
       "      <th>name</th>\n",
       "      <th>popularity</th>\n",
       "      <th>type</th>\n",
       "      <th>uri</th>\n",
       "      <th>external_urls.spotify</th>\n",
       "      <th>followers.href</th>\n",
       "      <th>followers.total</th>\n",
       "    </tr>\n",
       "  </thead>\n",
       "  <tbody>\n",
       "    <tr>\n",
       "      <th>0</th>\n",
       "      <td>[focus beats, lo-fi beats, lo-fi jazzhop]</td>\n",
       "      <td>https://api.spotify.com/v1/artists/59HCGLavl7X...</td>\n",
       "      <td>59HCGLavl7XxBSiAdB2L8j</td>\n",
       "      <td>[{'height': 640, 'url': 'https://i.scdn.co/ima...</td>\n",
       "      <td>Hz.</td>\n",
       "      <td>53</td>\n",
       "      <td>artist</td>\n",
       "      <td>spotify:artist:59HCGLavl7XxBSiAdB2L8j</td>\n",
       "      <td>https://open.spotify.com/artist/59HCGLavl7XxBS...</td>\n",
       "      <td>None</td>\n",
       "      <td>858</td>\n",
       "    </tr>\n",
       "    <tr>\n",
       "      <th>1</th>\n",
       "      <td>[chillhop, focus beats, jazz boom bap, lo-fi b...</td>\n",
       "      <td>https://api.spotify.com/v1/artists/6x5HLaMcoxa...</td>\n",
       "      <td>6x5HLaMcoxaULXpgN0NJbb</td>\n",
       "      <td>[{'height': 640, 'url': 'https://i.scdn.co/ima...</td>\n",
       "      <td>Flughand</td>\n",
       "      <td>55</td>\n",
       "      <td>artist</td>\n",
       "      <td>spotify:artist:6x5HLaMcoxaULXpgN0NJbb</td>\n",
       "      <td>https://open.spotify.com/artist/6x5HLaMcoxaULX...</td>\n",
       "      <td>None</td>\n",
       "      <td>29896</td>\n",
       "    </tr>\n",
       "    <tr>\n",
       "      <th>2</th>\n",
       "      <td>[]</td>\n",
       "      <td>https://api.spotify.com/v1/artists/0TxC0mgNuAd...</td>\n",
       "      <td>0TxC0mgNuAdLLSVawn3HIW</td>\n",
       "      <td>[{'height': 640, 'url': 'https://i.scdn.co/ima...</td>\n",
       "      <td>Extra|ordinary</td>\n",
       "      <td>44</td>\n",
       "      <td>artist</td>\n",
       "      <td>spotify:artist:0TxC0mgNuAdLLSVawn3HIW</td>\n",
       "      <td>https://open.spotify.com/artist/0TxC0mgNuAdLLS...</td>\n",
       "      <td>None</td>\n",
       "      <td>1398</td>\n",
       "    </tr>\n",
       "  </tbody>\n",
       "</table>\n",
       "</div>"
      ],
      "text/plain": [
       "                                              genres  \\\n",
       "0          [focus beats, lo-fi beats, lo-fi jazzhop]   \n",
       "1  [chillhop, focus beats, jazz boom bap, lo-fi b...   \n",
       "2                                                 []   \n",
       "\n",
       "                                                href                      id  \\\n",
       "0  https://api.spotify.com/v1/artists/59HCGLavl7X...  59HCGLavl7XxBSiAdB2L8j   \n",
       "1  https://api.spotify.com/v1/artists/6x5HLaMcoxa...  6x5HLaMcoxaULXpgN0NJbb   \n",
       "2  https://api.spotify.com/v1/artists/0TxC0mgNuAd...  0TxC0mgNuAdLLSVawn3HIW   \n",
       "\n",
       "                                              images            name  \\\n",
       "0  [{'height': 640, 'url': 'https://i.scdn.co/ima...             Hz.   \n",
       "1  [{'height': 640, 'url': 'https://i.scdn.co/ima...        Flughand   \n",
       "2  [{'height': 640, 'url': 'https://i.scdn.co/ima...  Extra|ordinary   \n",
       "\n",
       "   popularity    type                                    uri  \\\n",
       "0          53  artist  spotify:artist:59HCGLavl7XxBSiAdB2L8j   \n",
       "1          55  artist  spotify:artist:6x5HLaMcoxaULXpgN0NJbb   \n",
       "2          44  artist  spotify:artist:0TxC0mgNuAdLLSVawn3HIW   \n",
       "\n",
       "                               external_urls.spotify followers.href  \\\n",
       "0  https://open.spotify.com/artist/59HCGLavl7XxBS...           None   \n",
       "1  https://open.spotify.com/artist/6x5HLaMcoxaULX...           None   \n",
       "2  https://open.spotify.com/artist/0TxC0mgNuAdLLS...           None   \n",
       "\n",
       "   followers.total  \n",
       "0              858  \n",
       "1            29896  \n",
       "2             1398  "
      ]
     },
     "execution_count": 179,
     "metadata": {},
     "output_type": "execute_result"
    }
   ],
   "source": [
    "df_artists.head(3)"
   ]
  },
  {
   "cell_type": "code",
   "execution_count": 180,
   "id": "8d7f3f2d-f1f3-43b1-ac89-466776fb0999",
   "metadata": {},
   "outputs": [],
   "source": [
    "df_artists.to_csv('artists_details.csv', index=False)"
   ]
  },
  {
   "cell_type": "markdown",
   "id": "e0f74383-0ad0-49a2-b7b1-a80559729081",
   "metadata": {},
   "source": [
    "And I'm going to create another table with artist details, but with the genre column exploded. Where will I have each artist replicated for each genre they are part of. That make the analyse in tableau more easy for me"
   ]
  },
  {
   "cell_type": "code",
   "execution_count": 214,
   "id": "4aecb73a-ca17-4897-9c3b-96776d4d87be",
   "metadata": {},
   "outputs": [],
   "source": [
    "df_genre_artist = pd.json_normalize(artist_list, 'genres', ['id','name', 'popularity', ['followers', 'total'], ['external_urls', 'spotify']])"
   ]
  },
  {
   "cell_type": "code",
   "execution_count": 218,
   "id": "9bb5d480-15ba-457f-8d47-d4c30ecf20a5",
   "metadata": {},
   "outputs": [],
   "source": [
    "df_genre_artist.columns = [\n",
    "    'genre', 'id', 'name', 'popularity', \n",
    "    'followers.total', 'external_urls.spotify'\n",
    "]"
   ]
  },
  {
   "cell_type": "code",
   "execution_count": 219,
   "id": "418fe6cb-063c-47cc-9e57-59ae2c4549eb",
   "metadata": {},
   "outputs": [],
   "source": [
    "df_genre_artist.to_csv('genre_artist_details.csv', index=False)"
   ]
  },
  {
   "cell_type": "markdown",
   "id": "1538e208-defe-4674-8847-afcfee0dfab6",
   "metadata": {
    "jp-MarkdownHeadingCollapsed": true,
    "tags": []
   },
   "source": [
    "### Analyse"
   ]
  },
  {
   "cell_type": "markdown",
   "id": "39d62911-078f-4d1d-aff5-f7d12ce5f206",
   "metadata": {},
   "source": [
    "#### What are the most played genres?"
   ]
  },
  {
   "cell_type": "code",
   "execution_count": 222,
   "id": "1c613337-2af6-42a6-9005-c74300e875c0",
   "metadata": {},
   "outputs": [
    {
     "data": {
      "text/plain": [
       "genre\n",
       "nova mpb                    84\n",
       "brazilian hip hop           76\n",
       "alternative r&b             75\n",
       "indie soul                  68\n",
       "mpb                         59\n",
       "                            ..\n",
       "indian singer-songwriter     1\n",
       "indian indie                 1\n",
       "hollywood                    1\n",
       "hip hop tuga                 1\n",
       "zolo                         1\n",
       "Length: 491, dtype: int64"
      ]
     },
     "execution_count": 222,
     "metadata": {},
     "output_type": "execute_result"
    }
   ],
   "source": [
    "df_genre_artist.groupby('genre').size().sort_values(ascending=False)"
   ]
  },
  {
   "cell_type": "markdown",
   "id": "3c03b0d2-7b5d-44a0-98c2-9b0b08e71b3e",
   "metadata": {
    "tags": []
   },
   "source": [
    "## Track details"
   ]
  },
  {
   "cell_type": "markdown",
   "id": "eeb45e06-9a21-4b2e-b689-05b08195247a",
   "metadata": {},
   "source": [
    "### Audio Features"
   ]
  },
  {
   "cell_type": "markdown",
   "id": "ae88f1f6-c3e6-4af8-92f8-968a23fb02ea",
   "metadata": {},
   "source": [
    "Here, I did the same process I did with the artist details."
   ]
  },
  {
   "cell_type": "code",
   "execution_count": 223,
   "id": "686b6157-7735-4925-97dc-d46fe1335eaa",
   "metadata": {},
   "outputs": [],
   "source": [
    "track_list = df[df['type'] == 'music'].trackId.unique()\n",
    "features_list = []\n",
    "counter = 0\n",
    "\n",
    "for interval in range(0, len(track_list), 100):\n",
    "    if len(track_list) - (counter + 100) > 0:\n",
    "        features_list += sp.audio_features(track_list[interval:interval+100])\n",
    "    else: \n",
    "        features_list += sp.audio_features(track_list[interval:])\n",
    "    counter += 100    "
   ]
  },
  {
   "cell_type": "code",
   "execution_count": 233,
   "id": "dddf9d40-5432-4686-b551-d0371daf793f",
   "metadata": {},
   "outputs": [],
   "source": [
    "df_features = pd.json_normalize(features_list)"
   ]
  },
  {
   "cell_type": "code",
   "execution_count": 248,
   "id": "c1b7b848-5a9e-4598-8967-dd7385c70904",
   "metadata": {},
   "outputs": [
    {
     "data": {
      "text/html": [
       "<div>\n",
       "<style scoped>\n",
       "    .dataframe tbody tr th:only-of-type {\n",
       "        vertical-align: middle;\n",
       "    }\n",
       "\n",
       "    .dataframe tbody tr th {\n",
       "        vertical-align: top;\n",
       "    }\n",
       "\n",
       "    .dataframe thead th {\n",
       "        text-align: right;\n",
       "    }\n",
       "</style>\n",
       "<table border=\"1\" class=\"dataframe\">\n",
       "  <thead>\n",
       "    <tr style=\"text-align: right;\">\n",
       "      <th></th>\n",
       "      <th>danceability</th>\n",
       "      <th>energy</th>\n",
       "      <th>key</th>\n",
       "      <th>loudness</th>\n",
       "      <th>mode</th>\n",
       "      <th>speechiness</th>\n",
       "      <th>acousticness</th>\n",
       "      <th>instrumentalness</th>\n",
       "      <th>liveness</th>\n",
       "      <th>valence</th>\n",
       "      <th>tempo</th>\n",
       "      <th>type</th>\n",
       "      <th>id</th>\n",
       "      <th>uri</th>\n",
       "      <th>track_href</th>\n",
       "      <th>analysis_url</th>\n",
       "      <th>duration_ms</th>\n",
       "      <th>time_signature</th>\n",
       "    </tr>\n",
       "  </thead>\n",
       "  <tbody>\n",
       "    <tr>\n",
       "      <th>0</th>\n",
       "      <td>0.640</td>\n",
       "      <td>0.4040</td>\n",
       "      <td>0</td>\n",
       "      <td>-6.813</td>\n",
       "      <td>1</td>\n",
       "      <td>0.0560</td>\n",
       "      <td>0.913</td>\n",
       "      <td>0.867</td>\n",
       "      <td>0.139</td>\n",
       "      <td>0.112</td>\n",
       "      <td>74.972</td>\n",
       "      <td>audio_features</td>\n",
       "      <td>6nGs7MpyrZBxQGqP7QZUE5</td>\n",
       "      <td>spotify:track:6nGs7MpyrZBxQGqP7QZUE5</td>\n",
       "      <td>https://api.spotify.com/v1/tracks/6nGs7MpyrZBx...</td>\n",
       "      <td>https://api.spotify.com/v1/audio-analysis/6nGs...</td>\n",
       "      <td>128000</td>\n",
       "      <td>4</td>\n",
       "    </tr>\n",
       "    <tr>\n",
       "      <th>1</th>\n",
       "      <td>0.613</td>\n",
       "      <td>0.1420</td>\n",
       "      <td>5</td>\n",
       "      <td>-9.796</td>\n",
       "      <td>0</td>\n",
       "      <td>0.0497</td>\n",
       "      <td>0.859</td>\n",
       "      <td>0.896</td>\n",
       "      <td>0.109</td>\n",
       "      <td>0.472</td>\n",
       "      <td>85.995</td>\n",
       "      <td>audio_features</td>\n",
       "      <td>5225kdD75Gt1JV7aBRcPab</td>\n",
       "      <td>spotify:track:5225kdD75Gt1JV7aBRcPab</td>\n",
       "      <td>https://api.spotify.com/v1/tracks/5225kdD75Gt1...</td>\n",
       "      <td>https://api.spotify.com/v1/audio-analysis/5225...</td>\n",
       "      <td>130547</td>\n",
       "      <td>4</td>\n",
       "    </tr>\n",
       "    <tr>\n",
       "      <th>2</th>\n",
       "      <td>0.655</td>\n",
       "      <td>0.3290</td>\n",
       "      <td>8</td>\n",
       "      <td>-11.925</td>\n",
       "      <td>1</td>\n",
       "      <td>0.0592</td>\n",
       "      <td>0.771</td>\n",
       "      <td>0.753</td>\n",
       "      <td>0.111</td>\n",
       "      <td>0.251</td>\n",
       "      <td>149.978</td>\n",
       "      <td>audio_features</td>\n",
       "      <td>0FDfWO6EY4JCJ1qyZV61bj</td>\n",
       "      <td>spotify:track:0FDfWO6EY4JCJ1qyZV61bj</td>\n",
       "      <td>https://api.spotify.com/v1/tracks/0FDfWO6EY4JC...</td>\n",
       "      <td>https://api.spotify.com/v1/audio-analysis/0FDf...</td>\n",
       "      <td>128000</td>\n",
       "      <td>3</td>\n",
       "    </tr>\n",
       "    <tr>\n",
       "      <th>3</th>\n",
       "      <td>0.730</td>\n",
       "      <td>0.0268</td>\n",
       "      <td>6</td>\n",
       "      <td>-22.525</td>\n",
       "      <td>1</td>\n",
       "      <td>0.0867</td>\n",
       "      <td>0.444</td>\n",
       "      <td>0.972</td>\n",
       "      <td>0.107</td>\n",
       "      <td>0.817</td>\n",
       "      <td>150.036</td>\n",
       "      <td>audio_features</td>\n",
       "      <td>1WgWROzKGHOXJg141yIV3V</td>\n",
       "      <td>spotify:track:1WgWROzKGHOXJg141yIV3V</td>\n",
       "      <td>https://api.spotify.com/v1/tracks/1WgWROzKGHOX...</td>\n",
       "      <td>https://api.spotify.com/v1/audio-analysis/1WgW...</td>\n",
       "      <td>64008</td>\n",
       "      <td>4</td>\n",
       "    </tr>\n",
       "    <tr>\n",
       "      <th>4</th>\n",
       "      <td>0.840</td>\n",
       "      <td>0.4250</td>\n",
       "      <td>9</td>\n",
       "      <td>-9.404</td>\n",
       "      <td>0</td>\n",
       "      <td>0.0871</td>\n",
       "      <td>0.262</td>\n",
       "      <td>0.921</td>\n",
       "      <td>0.116</td>\n",
       "      <td>0.539</td>\n",
       "      <td>92.970</td>\n",
       "      <td>audio_features</td>\n",
       "      <td>4mkjTB0pCowcxXvTDldEOC</td>\n",
       "      <td>spotify:track:4mkjTB0pCowcxXvTDldEOC</td>\n",
       "      <td>https://api.spotify.com/v1/tracks/4mkjTB0pCowc...</td>\n",
       "      <td>https://api.spotify.com/v1/audio-analysis/4mkj...</td>\n",
       "      <td>131559</td>\n",
       "      <td>4</td>\n",
       "    </tr>\n",
       "  </tbody>\n",
       "</table>\n",
       "</div>"
      ],
      "text/plain": [
       "   danceability  energy  key  loudness  mode  speechiness  acousticness  \\\n",
       "0         0.640  0.4040    0    -6.813     1       0.0560         0.913   \n",
       "1         0.613  0.1420    5    -9.796     0       0.0497         0.859   \n",
       "2         0.655  0.3290    8   -11.925     1       0.0592         0.771   \n",
       "3         0.730  0.0268    6   -22.525     1       0.0867         0.444   \n",
       "4         0.840  0.4250    9    -9.404     0       0.0871         0.262   \n",
       "\n",
       "   instrumentalness  liveness  valence    tempo            type  \\\n",
       "0             0.867     0.139    0.112   74.972  audio_features   \n",
       "1             0.896     0.109    0.472   85.995  audio_features   \n",
       "2             0.753     0.111    0.251  149.978  audio_features   \n",
       "3             0.972     0.107    0.817  150.036  audio_features   \n",
       "4             0.921     0.116    0.539   92.970  audio_features   \n",
       "\n",
       "                       id                                   uri  \\\n",
       "0  6nGs7MpyrZBxQGqP7QZUE5  spotify:track:6nGs7MpyrZBxQGqP7QZUE5   \n",
       "1  5225kdD75Gt1JV7aBRcPab  spotify:track:5225kdD75Gt1JV7aBRcPab   \n",
       "2  0FDfWO6EY4JCJ1qyZV61bj  spotify:track:0FDfWO6EY4JCJ1qyZV61bj   \n",
       "3  1WgWROzKGHOXJg141yIV3V  spotify:track:1WgWROzKGHOXJg141yIV3V   \n",
       "4  4mkjTB0pCowcxXvTDldEOC  spotify:track:4mkjTB0pCowcxXvTDldEOC   \n",
       "\n",
       "                                          track_href  \\\n",
       "0  https://api.spotify.com/v1/tracks/6nGs7MpyrZBx...   \n",
       "1  https://api.spotify.com/v1/tracks/5225kdD75Gt1...   \n",
       "2  https://api.spotify.com/v1/tracks/0FDfWO6EY4JC...   \n",
       "3  https://api.spotify.com/v1/tracks/1WgWROzKGHOX...   \n",
       "4  https://api.spotify.com/v1/tracks/4mkjTB0pCowc...   \n",
       "\n",
       "                                        analysis_url  duration_ms  \\\n",
       "0  https://api.spotify.com/v1/audio-analysis/6nGs...       128000   \n",
       "1  https://api.spotify.com/v1/audio-analysis/5225...       130547   \n",
       "2  https://api.spotify.com/v1/audio-analysis/0FDf...       128000   \n",
       "3  https://api.spotify.com/v1/audio-analysis/1WgW...        64008   \n",
       "4  https://api.spotify.com/v1/audio-analysis/4mkj...       131559   \n",
       "\n",
       "   time_signature  \n",
       "0               4  \n",
       "1               4  \n",
       "2               3  \n",
       "3               4  \n",
       "4               4  "
      ]
     },
     "execution_count": 248,
     "metadata": {},
     "output_type": "execute_result"
    }
   ],
   "source": [
    "df_features.head()"
   ]
  },
  {
   "cell_type": "code",
   "execution_count": 240,
   "id": "1278abfa-32be-4e92-afad-8989a447d35c",
   "metadata": {},
   "outputs": [
    {
     "data": {
      "text/plain": [
       "(1761, 18)"
      ]
     },
     "execution_count": 240,
     "metadata": {},
     "output_type": "execute_result"
    }
   ],
   "source": [
    "df_features.shape"
   ]
  },
  {
   "cell_type": "code",
   "execution_count": null,
   "id": "ed2ca6ea-9600-42c9-8c9b-f33469cff89e",
   "metadata": {},
   "outputs": [],
   "source": [
    "df_features.to_csv('spotify_audio_features.csv', index=False)"
   ]
  },
  {
   "cell_type": "code",
   "execution_count": 4,
   "id": "84f696d0-3a8a-4d62-8ebb-e0c1572dfb00",
   "metadata": {},
   "outputs": [
    {
     "data": {
      "text/html": [
       "<div>\n",
       "<style scoped>\n",
       "    .dataframe tbody tr th:only-of-type {\n",
       "        vertical-align: middle;\n",
       "    }\n",
       "\n",
       "    .dataframe tbody tr th {\n",
       "        vertical-align: top;\n",
       "    }\n",
       "\n",
       "    .dataframe thead th {\n",
       "        text-align: right;\n",
       "    }\n",
       "</style>\n",
       "<table border=\"1\" class=\"dataframe\">\n",
       "  <thead>\n",
       "    <tr style=\"text-align: right;\">\n",
       "      <th></th>\n",
       "      <th>danceability</th>\n",
       "      <th>energy</th>\n",
       "      <th>key</th>\n",
       "      <th>loudness</th>\n",
       "      <th>mode</th>\n",
       "      <th>speechiness</th>\n",
       "      <th>acousticness</th>\n",
       "      <th>instrumentalness</th>\n",
       "      <th>liveness</th>\n",
       "      <th>valence</th>\n",
       "      <th>tempo</th>\n",
       "      <th>type</th>\n",
       "      <th>id</th>\n",
       "      <th>uri</th>\n",
       "      <th>track_href</th>\n",
       "      <th>analysis_url</th>\n",
       "      <th>duration_ms</th>\n",
       "      <th>time_signature</th>\n",
       "    </tr>\n",
       "  </thead>\n",
       "  <tbody>\n",
       "    <tr>\n",
       "      <th>0</th>\n",
       "      <td>0.640</td>\n",
       "      <td>0.4040</td>\n",
       "      <td>0</td>\n",
       "      <td>-6.813</td>\n",
       "      <td>1</td>\n",
       "      <td>0.0560</td>\n",
       "      <td>0.913</td>\n",
       "      <td>0.867000</td>\n",
       "      <td>0.139</td>\n",
       "      <td>0.112</td>\n",
       "      <td>74.972</td>\n",
       "      <td>audio_features</td>\n",
       "      <td>6nGs7MpyrZBxQGqP7QZUE5</td>\n",
       "      <td>spotify:track:6nGs7MpyrZBxQGqP7QZUE5</td>\n",
       "      <td>https://api.spotify.com/v1/tracks/6nGs7MpyrZBx...</td>\n",
       "      <td>https://api.spotify.com/v1/audio-analysis/6nGs...</td>\n",
       "      <td>128000</td>\n",
       "      <td>4</td>\n",
       "    </tr>\n",
       "    <tr>\n",
       "      <th>1</th>\n",
       "      <td>0.613</td>\n",
       "      <td>0.1420</td>\n",
       "      <td>5</td>\n",
       "      <td>-9.796</td>\n",
       "      <td>0</td>\n",
       "      <td>0.0497</td>\n",
       "      <td>0.859</td>\n",
       "      <td>0.896000</td>\n",
       "      <td>0.109</td>\n",
       "      <td>0.472</td>\n",
       "      <td>85.995</td>\n",
       "      <td>audio_features</td>\n",
       "      <td>5225kdD75Gt1JV7aBRcPab</td>\n",
       "      <td>spotify:track:5225kdD75Gt1JV7aBRcPab</td>\n",
       "      <td>https://api.spotify.com/v1/tracks/5225kdD75Gt1...</td>\n",
       "      <td>https://api.spotify.com/v1/audio-analysis/5225...</td>\n",
       "      <td>130547</td>\n",
       "      <td>4</td>\n",
       "    </tr>\n",
       "    <tr>\n",
       "      <th>2</th>\n",
       "      <td>0.655</td>\n",
       "      <td>0.3290</td>\n",
       "      <td>8</td>\n",
       "      <td>-11.925</td>\n",
       "      <td>1</td>\n",
       "      <td>0.0592</td>\n",
       "      <td>0.771</td>\n",
       "      <td>0.753000</td>\n",
       "      <td>0.111</td>\n",
       "      <td>0.251</td>\n",
       "      <td>149.978</td>\n",
       "      <td>audio_features</td>\n",
       "      <td>0FDfWO6EY4JCJ1qyZV61bj</td>\n",
       "      <td>spotify:track:0FDfWO6EY4JCJ1qyZV61bj</td>\n",
       "      <td>https://api.spotify.com/v1/tracks/0FDfWO6EY4JC...</td>\n",
       "      <td>https://api.spotify.com/v1/audio-analysis/0FDf...</td>\n",
       "      <td>128000</td>\n",
       "      <td>3</td>\n",
       "    </tr>\n",
       "    <tr>\n",
       "      <th>3</th>\n",
       "      <td>0.730</td>\n",
       "      <td>0.0268</td>\n",
       "      <td>6</td>\n",
       "      <td>-22.525</td>\n",
       "      <td>1</td>\n",
       "      <td>0.0867</td>\n",
       "      <td>0.444</td>\n",
       "      <td>0.972000</td>\n",
       "      <td>0.107</td>\n",
       "      <td>0.817</td>\n",
       "      <td>150.036</td>\n",
       "      <td>audio_features</td>\n",
       "      <td>1WgWROzKGHOXJg141yIV3V</td>\n",
       "      <td>spotify:track:1WgWROzKGHOXJg141yIV3V</td>\n",
       "      <td>https://api.spotify.com/v1/tracks/1WgWROzKGHOX...</td>\n",
       "      <td>https://api.spotify.com/v1/audio-analysis/1WgW...</td>\n",
       "      <td>64008</td>\n",
       "      <td>4</td>\n",
       "    </tr>\n",
       "    <tr>\n",
       "      <th>4</th>\n",
       "      <td>0.840</td>\n",
       "      <td>0.4250</td>\n",
       "      <td>9</td>\n",
       "      <td>-9.404</td>\n",
       "      <td>0</td>\n",
       "      <td>0.0871</td>\n",
       "      <td>0.262</td>\n",
       "      <td>0.921000</td>\n",
       "      <td>0.116</td>\n",
       "      <td>0.539</td>\n",
       "      <td>92.970</td>\n",
       "      <td>audio_features</td>\n",
       "      <td>4mkjTB0pCowcxXvTDldEOC</td>\n",
       "      <td>spotify:track:4mkjTB0pCowcxXvTDldEOC</td>\n",
       "      <td>https://api.spotify.com/v1/tracks/4mkjTB0pCowc...</td>\n",
       "      <td>https://api.spotify.com/v1/audio-analysis/4mkj...</td>\n",
       "      <td>131559</td>\n",
       "      <td>4</td>\n",
       "    </tr>\n",
       "    <tr>\n",
       "      <th>...</th>\n",
       "      <td>...</td>\n",
       "      <td>...</td>\n",
       "      <td>...</td>\n",
       "      <td>...</td>\n",
       "      <td>...</td>\n",
       "      <td>...</td>\n",
       "      <td>...</td>\n",
       "      <td>...</td>\n",
       "      <td>...</td>\n",
       "      <td>...</td>\n",
       "      <td>...</td>\n",
       "      <td>...</td>\n",
       "      <td>...</td>\n",
       "      <td>...</td>\n",
       "      <td>...</td>\n",
       "      <td>...</td>\n",
       "      <td>...</td>\n",
       "      <td>...</td>\n",
       "    </tr>\n",
       "    <tr>\n",
       "      <th>1756</th>\n",
       "      <td>0.759</td>\n",
       "      <td>0.4810</td>\n",
       "      <td>11</td>\n",
       "      <td>-10.414</td>\n",
       "      <td>0</td>\n",
       "      <td>0.0452</td>\n",
       "      <td>0.134</td>\n",
       "      <td>0.051800</td>\n",
       "      <td>0.678</td>\n",
       "      <td>0.116</td>\n",
       "      <td>95.035</td>\n",
       "      <td>audio_features</td>\n",
       "      <td>6lkBUo1eF422uPCrFJrVEQ</td>\n",
       "      <td>spotify:track:6lkBUo1eF422uPCrFJrVEQ</td>\n",
       "      <td>https://api.spotify.com/v1/tracks/6lkBUo1eF422...</td>\n",
       "      <td>https://api.spotify.com/v1/audio-analysis/6lkB...</td>\n",
       "      <td>300722</td>\n",
       "      <td>4</td>\n",
       "    </tr>\n",
       "    <tr>\n",
       "      <th>1757</th>\n",
       "      <td>0.840</td>\n",
       "      <td>0.6140</td>\n",
       "      <td>0</td>\n",
       "      <td>-6.908</td>\n",
       "      <td>0</td>\n",
       "      <td>0.0378</td>\n",
       "      <td>0.055</td>\n",
       "      <td>0.000036</td>\n",
       "      <td>0.236</td>\n",
       "      <td>0.967</td>\n",
       "      <td>112.020</td>\n",
       "      <td>audio_features</td>\n",
       "      <td>14zrmCf0dVPaS5iFFUKIK1</td>\n",
       "      <td>spotify:track:14zrmCf0dVPaS5iFFUKIK1</td>\n",
       "      <td>https://api.spotify.com/v1/tracks/14zrmCf0dVPa...</td>\n",
       "      <td>https://api.spotify.com/v1/audio-analysis/14zr...</td>\n",
       "      <td>199443</td>\n",
       "      <td>4</td>\n",
       "    </tr>\n",
       "    <tr>\n",
       "      <th>1758</th>\n",
       "      <td>0.607</td>\n",
       "      <td>0.7960</td>\n",
       "      <td>1</td>\n",
       "      <td>-7.066</td>\n",
       "      <td>1</td>\n",
       "      <td>0.0386</td>\n",
       "      <td>0.356</td>\n",
       "      <td>0.928000</td>\n",
       "      <td>0.111</td>\n",
       "      <td>0.236</td>\n",
       "      <td>123.615</td>\n",
       "      <td>audio_features</td>\n",
       "      <td>1hVgSEi1qKBOlACdHGt8vQ</td>\n",
       "      <td>spotify:track:1hVgSEi1qKBOlACdHGt8vQ</td>\n",
       "      <td>https://api.spotify.com/v1/tracks/1hVgSEi1qKBO...</td>\n",
       "      <td>https://api.spotify.com/v1/audio-analysis/1hVg...</td>\n",
       "      <td>363229</td>\n",
       "      <td>4</td>\n",
       "    </tr>\n",
       "    <tr>\n",
       "      <th>1759</th>\n",
       "      <td>0.845</td>\n",
       "      <td>0.7380</td>\n",
       "      <td>11</td>\n",
       "      <td>-5.467</td>\n",
       "      <td>0</td>\n",
       "      <td>0.0681</td>\n",
       "      <td>0.310</td>\n",
       "      <td>0.548000</td>\n",
       "      <td>0.111</td>\n",
       "      <td>0.750</td>\n",
       "      <td>121.000</td>\n",
       "      <td>audio_features</td>\n",
       "      <td>0eqFasz9SX1iE9IgyYONhc</td>\n",
       "      <td>spotify:track:0eqFasz9SX1iE9IgyYONhc</td>\n",
       "      <td>https://api.spotify.com/v1/tracks/0eqFasz9SX1i...</td>\n",
       "      <td>https://api.spotify.com/v1/audio-analysis/0eqF...</td>\n",
       "      <td>339174</td>\n",
       "      <td>4</td>\n",
       "    </tr>\n",
       "    <tr>\n",
       "      <th>1760</th>\n",
       "      <td>0.419</td>\n",
       "      <td>0.5590</td>\n",
       "      <td>10</td>\n",
       "      <td>-7.677</td>\n",
       "      <td>1</td>\n",
       "      <td>0.1430</td>\n",
       "      <td>0.135</td>\n",
       "      <td>0.000018</td>\n",
       "      <td>0.111</td>\n",
       "      <td>0.275</td>\n",
       "      <td>79.485</td>\n",
       "      <td>audio_features</td>\n",
       "      <td>1a8JXGNz4a9gmiAdEKUpks</td>\n",
       "      <td>spotify:track:1a8JXGNz4a9gmiAdEKUpks</td>\n",
       "      <td>https://api.spotify.com/v1/tracks/1a8JXGNz4a9g...</td>\n",
       "      <td>https://api.spotify.com/v1/audio-analysis/1a8J...</td>\n",
       "      <td>220933</td>\n",
       "      <td>4</td>\n",
       "    </tr>\n",
       "  </tbody>\n",
       "</table>\n",
       "<p>1761 rows × 18 columns</p>\n",
       "</div>"
      ],
      "text/plain": [
       "      danceability  energy  key  loudness  mode  speechiness  acousticness  \\\n",
       "0            0.640  0.4040    0    -6.813     1       0.0560         0.913   \n",
       "1            0.613  0.1420    5    -9.796     0       0.0497         0.859   \n",
       "2            0.655  0.3290    8   -11.925     1       0.0592         0.771   \n",
       "3            0.730  0.0268    6   -22.525     1       0.0867         0.444   \n",
       "4            0.840  0.4250    9    -9.404     0       0.0871         0.262   \n",
       "...            ...     ...  ...       ...   ...          ...           ...   \n",
       "1756         0.759  0.4810   11   -10.414     0       0.0452         0.134   \n",
       "1757         0.840  0.6140    0    -6.908     0       0.0378         0.055   \n",
       "1758         0.607  0.7960    1    -7.066     1       0.0386         0.356   \n",
       "1759         0.845  0.7380   11    -5.467     0       0.0681         0.310   \n",
       "1760         0.419  0.5590   10    -7.677     1       0.1430         0.135   \n",
       "\n",
       "      instrumentalness  liveness  valence    tempo            type  \\\n",
       "0             0.867000     0.139    0.112   74.972  audio_features   \n",
       "1             0.896000     0.109    0.472   85.995  audio_features   \n",
       "2             0.753000     0.111    0.251  149.978  audio_features   \n",
       "3             0.972000     0.107    0.817  150.036  audio_features   \n",
       "4             0.921000     0.116    0.539   92.970  audio_features   \n",
       "...                ...       ...      ...      ...             ...   \n",
       "1756          0.051800     0.678    0.116   95.035  audio_features   \n",
       "1757          0.000036     0.236    0.967  112.020  audio_features   \n",
       "1758          0.928000     0.111    0.236  123.615  audio_features   \n",
       "1759          0.548000     0.111    0.750  121.000  audio_features   \n",
       "1760          0.000018     0.111    0.275   79.485  audio_features   \n",
       "\n",
       "                          id                                   uri  \\\n",
       "0     6nGs7MpyrZBxQGqP7QZUE5  spotify:track:6nGs7MpyrZBxQGqP7QZUE5   \n",
       "1     5225kdD75Gt1JV7aBRcPab  spotify:track:5225kdD75Gt1JV7aBRcPab   \n",
       "2     0FDfWO6EY4JCJ1qyZV61bj  spotify:track:0FDfWO6EY4JCJ1qyZV61bj   \n",
       "3     1WgWROzKGHOXJg141yIV3V  spotify:track:1WgWROzKGHOXJg141yIV3V   \n",
       "4     4mkjTB0pCowcxXvTDldEOC  spotify:track:4mkjTB0pCowcxXvTDldEOC   \n",
       "...                      ...                                   ...   \n",
       "1756  6lkBUo1eF422uPCrFJrVEQ  spotify:track:6lkBUo1eF422uPCrFJrVEQ   \n",
       "1757  14zrmCf0dVPaS5iFFUKIK1  spotify:track:14zrmCf0dVPaS5iFFUKIK1   \n",
       "1758  1hVgSEi1qKBOlACdHGt8vQ  spotify:track:1hVgSEi1qKBOlACdHGt8vQ   \n",
       "1759  0eqFasz9SX1iE9IgyYONhc  spotify:track:0eqFasz9SX1iE9IgyYONhc   \n",
       "1760  1a8JXGNz4a9gmiAdEKUpks  spotify:track:1a8JXGNz4a9gmiAdEKUpks   \n",
       "\n",
       "                                             track_href  \\\n",
       "0     https://api.spotify.com/v1/tracks/6nGs7MpyrZBx...   \n",
       "1     https://api.spotify.com/v1/tracks/5225kdD75Gt1...   \n",
       "2     https://api.spotify.com/v1/tracks/0FDfWO6EY4JC...   \n",
       "3     https://api.spotify.com/v1/tracks/1WgWROzKGHOX...   \n",
       "4     https://api.spotify.com/v1/tracks/4mkjTB0pCowc...   \n",
       "...                                                 ...   \n",
       "1756  https://api.spotify.com/v1/tracks/6lkBUo1eF422...   \n",
       "1757  https://api.spotify.com/v1/tracks/14zrmCf0dVPa...   \n",
       "1758  https://api.spotify.com/v1/tracks/1hVgSEi1qKBO...   \n",
       "1759  https://api.spotify.com/v1/tracks/0eqFasz9SX1i...   \n",
       "1760  https://api.spotify.com/v1/tracks/1a8JXGNz4a9g...   \n",
       "\n",
       "                                           analysis_url  duration_ms  \\\n",
       "0     https://api.spotify.com/v1/audio-analysis/6nGs...       128000   \n",
       "1     https://api.spotify.com/v1/audio-analysis/5225...       130547   \n",
       "2     https://api.spotify.com/v1/audio-analysis/0FDf...       128000   \n",
       "3     https://api.spotify.com/v1/audio-analysis/1WgW...        64008   \n",
       "4     https://api.spotify.com/v1/audio-analysis/4mkj...       131559   \n",
       "...                                                 ...          ...   \n",
       "1756  https://api.spotify.com/v1/audio-analysis/6lkB...       300722   \n",
       "1757  https://api.spotify.com/v1/audio-analysis/14zr...       199443   \n",
       "1758  https://api.spotify.com/v1/audio-analysis/1hVg...       363229   \n",
       "1759  https://api.spotify.com/v1/audio-analysis/0eqF...       339174   \n",
       "1760  https://api.spotify.com/v1/audio-analysis/1a8J...       220933   \n",
       "\n",
       "      time_signature  \n",
       "0                  4  \n",
       "1                  4  \n",
       "2                  3  \n",
       "3                  4  \n",
       "4                  4  \n",
       "...              ...  \n",
       "1756               4  \n",
       "1757               4  \n",
       "1758               4  \n",
       "1759               4  \n",
       "1760               4  \n",
       "\n",
       "[1761 rows x 18 columns]"
      ]
     },
     "execution_count": 4,
     "metadata": {},
     "output_type": "execute_result"
    }
   ],
   "source": [
    "df_features"
   ]
  },
  {
   "cell_type": "code",
   "execution_count": 6,
   "id": "41ec8cbb-7f3e-4754-a374-50022f7b63db",
   "metadata": {},
   "outputs": [
    {
     "data": {
      "text/html": [
       "<div>\n",
       "<style scoped>\n",
       "    .dataframe tbody tr th:only-of-type {\n",
       "        vertical-align: middle;\n",
       "    }\n",
       "\n",
       "    .dataframe tbody tr th {\n",
       "        vertical-align: top;\n",
       "    }\n",
       "\n",
       "    .dataframe thead th {\n",
       "        text-align: right;\n",
       "    }\n",
       "</style>\n",
       "<table border=\"1\" class=\"dataframe\">\n",
       "  <thead>\n",
       "    <tr style=\"text-align: right;\">\n",
       "      <th></th>\n",
       "      <th>danceability</th>\n",
       "      <th>energy</th>\n",
       "      <th>key</th>\n",
       "      <th>loudness</th>\n",
       "      <th>mode</th>\n",
       "      <th>speechiness</th>\n",
       "      <th>acousticness</th>\n",
       "      <th>instrumentalness</th>\n",
       "      <th>liveness</th>\n",
       "      <th>valence</th>\n",
       "      <th>tempo</th>\n",
       "      <th>duration_ms</th>\n",
       "      <th>time_signature</th>\n",
       "    </tr>\n",
       "  </thead>\n",
       "  <tbody>\n",
       "    <tr>\n",
       "      <th>count</th>\n",
       "      <td>1761.000000</td>\n",
       "      <td>1761.000000</td>\n",
       "      <td>1761.000000</td>\n",
       "      <td>1761.000000</td>\n",
       "      <td>1761.000000</td>\n",
       "      <td>1761.000000</td>\n",
       "      <td>1761.000000</td>\n",
       "      <td>1761.000000</td>\n",
       "      <td>1761.000000</td>\n",
       "      <td>1761.000000</td>\n",
       "      <td>1761.000000</td>\n",
       "      <td>1761.000000</td>\n",
       "      <td>1761.000000</td>\n",
       "    </tr>\n",
       "    <tr>\n",
       "      <th>mean</th>\n",
       "      <td>0.665404</td>\n",
       "      <td>0.577315</td>\n",
       "      <td>5.492902</td>\n",
       "      <td>-8.494314</td>\n",
       "      <td>0.481545</td>\n",
       "      <td>0.136604</td>\n",
       "      <td>0.345087</td>\n",
       "      <td>0.067256</td>\n",
       "      <td>0.195286</td>\n",
       "      <td>0.548777</td>\n",
       "      <td>116.781423</td>\n",
       "      <td>217250.136286</td>\n",
       "      <td>3.950596</td>\n",
       "    </tr>\n",
       "    <tr>\n",
       "      <th>std</th>\n",
       "      <td>0.142464</td>\n",
       "      <td>0.189420</td>\n",
       "      <td>3.577086</td>\n",
       "      <td>3.195931</td>\n",
       "      <td>0.499801</td>\n",
       "      <td>0.132631</td>\n",
       "      <td>0.279380</td>\n",
       "      <td>0.196073</td>\n",
       "      <td>0.162686</td>\n",
       "      <td>0.235356</td>\n",
       "      <td>29.096810</td>\n",
       "      <td>66626.657836</td>\n",
       "      <td>0.346001</td>\n",
       "    </tr>\n",
       "    <tr>\n",
       "      <th>min</th>\n",
       "      <td>0.192000</td>\n",
       "      <td>0.026800</td>\n",
       "      <td>0.000000</td>\n",
       "      <td>-26.290000</td>\n",
       "      <td>0.000000</td>\n",
       "      <td>0.023200</td>\n",
       "      <td>0.000217</td>\n",
       "      <td>0.000000</td>\n",
       "      <td>0.022600</td>\n",
       "      <td>0.033400</td>\n",
       "      <td>51.293000</td>\n",
       "      <td>23720.000000</td>\n",
       "      <td>1.000000</td>\n",
       "    </tr>\n",
       "    <tr>\n",
       "      <th>25%</th>\n",
       "      <td>0.571000</td>\n",
       "      <td>0.457000</td>\n",
       "      <td>2.000000</td>\n",
       "      <td>-10.165000</td>\n",
       "      <td>0.000000</td>\n",
       "      <td>0.044700</td>\n",
       "      <td>0.091400</td>\n",
       "      <td>0.000000</td>\n",
       "      <td>0.098900</td>\n",
       "      <td>0.362000</td>\n",
       "      <td>92.864000</td>\n",
       "      <td>177027.000000</td>\n",
       "      <td>4.000000</td>\n",
       "    </tr>\n",
       "    <tr>\n",
       "      <th>50%</th>\n",
       "      <td>0.685000</td>\n",
       "      <td>0.582000</td>\n",
       "      <td>6.000000</td>\n",
       "      <td>-7.978000</td>\n",
       "      <td>0.000000</td>\n",
       "      <td>0.073900</td>\n",
       "      <td>0.276000</td>\n",
       "      <td>0.000027</td>\n",
       "      <td>0.124000</td>\n",
       "      <td>0.555000</td>\n",
       "      <td>115.009000</td>\n",
       "      <td>211138.000000</td>\n",
       "      <td>4.000000</td>\n",
       "    </tr>\n",
       "    <tr>\n",
       "      <th>75%</th>\n",
       "      <td>0.774000</td>\n",
       "      <td>0.720000</td>\n",
       "      <td>9.000000</td>\n",
       "      <td>-6.431000</td>\n",
       "      <td>1.000000</td>\n",
       "      <td>0.191000</td>\n",
       "      <td>0.559000</td>\n",
       "      <td>0.003860</td>\n",
       "      <td>0.241000</td>\n",
       "      <td>0.745000</td>\n",
       "      <td>135.982000</td>\n",
       "      <td>249498.000000</td>\n",
       "      <td>4.000000</td>\n",
       "    </tr>\n",
       "    <tr>\n",
       "      <th>max</th>\n",
       "      <td>0.971000</td>\n",
       "      <td>0.983000</td>\n",
       "      <td>11.000000</td>\n",
       "      <td>-1.080000</td>\n",
       "      <td>1.000000</td>\n",
       "      <td>0.949000</td>\n",
       "      <td>0.989000</td>\n",
       "      <td>0.972000</td>\n",
       "      <td>0.997000</td>\n",
       "      <td>0.980000</td>\n",
       "      <td>216.109000</td>\n",
       "      <td>610000.000000</td>\n",
       "      <td>5.000000</td>\n",
       "    </tr>\n",
       "  </tbody>\n",
       "</table>\n",
       "</div>"
      ],
      "text/plain": [
       "       danceability       energy          key     loudness         mode  \\\n",
       "count   1761.000000  1761.000000  1761.000000  1761.000000  1761.000000   \n",
       "mean       0.665404     0.577315     5.492902    -8.494314     0.481545   \n",
       "std        0.142464     0.189420     3.577086     3.195931     0.499801   \n",
       "min        0.192000     0.026800     0.000000   -26.290000     0.000000   \n",
       "25%        0.571000     0.457000     2.000000   -10.165000     0.000000   \n",
       "50%        0.685000     0.582000     6.000000    -7.978000     0.000000   \n",
       "75%        0.774000     0.720000     9.000000    -6.431000     1.000000   \n",
       "max        0.971000     0.983000    11.000000    -1.080000     1.000000   \n",
       "\n",
       "       speechiness  acousticness  instrumentalness     liveness      valence  \\\n",
       "count  1761.000000   1761.000000       1761.000000  1761.000000  1761.000000   \n",
       "mean      0.136604      0.345087          0.067256     0.195286     0.548777   \n",
       "std       0.132631      0.279380          0.196073     0.162686     0.235356   \n",
       "min       0.023200      0.000217          0.000000     0.022600     0.033400   \n",
       "25%       0.044700      0.091400          0.000000     0.098900     0.362000   \n",
       "50%       0.073900      0.276000          0.000027     0.124000     0.555000   \n",
       "75%       0.191000      0.559000          0.003860     0.241000     0.745000   \n",
       "max       0.949000      0.989000          0.972000     0.997000     0.980000   \n",
       "\n",
       "             tempo    duration_ms  time_signature  \n",
       "count  1761.000000    1761.000000     1761.000000  \n",
       "mean    116.781423  217250.136286        3.950596  \n",
       "std      29.096810   66626.657836        0.346001  \n",
       "min      51.293000   23720.000000        1.000000  \n",
       "25%      92.864000  177027.000000        4.000000  \n",
       "50%     115.009000  211138.000000        4.000000  \n",
       "75%     135.982000  249498.000000        4.000000  \n",
       "max     216.109000  610000.000000        5.000000  "
      ]
     },
     "execution_count": 6,
     "metadata": {},
     "output_type": "execute_result"
    }
   ],
   "source": [
    "df_features.describe()"
   ]
  },
  {
   "cell_type": "markdown",
   "id": "49471972-2fcf-47bd-a1ba-becbde81afaa",
   "metadata": {},
   "source": [
    "To visualize the informations as I imagine it, it will be better if I take the features unpivoted. This way, the features I selected will be categories in a single column, with their values in another column."
   ]
  },
  {
   "cell_type": "code",
   "execution_count": 6,
   "id": "0ac2937e-2b20-4b2e-be47-81775f810ca5",
   "metadata": {},
   "outputs": [
    {
     "data": {
      "text/html": [
       "<div>\n",
       "<style scoped>\n",
       "    .dataframe tbody tr th:only-of-type {\n",
       "        vertical-align: middle;\n",
       "    }\n",
       "\n",
       "    .dataframe tbody tr th {\n",
       "        vertical-align: top;\n",
       "    }\n",
       "\n",
       "    .dataframe thead th {\n",
       "        text-align: right;\n",
       "    }\n",
       "</style>\n",
       "<table border=\"1\" class=\"dataframe\">\n",
       "  <thead>\n",
       "    <tr style=\"text-align: right;\">\n",
       "      <th></th>\n",
       "      <th>id</th>\n",
       "      <th>feature</th>\n",
       "      <th>value</th>\n",
       "    </tr>\n",
       "  </thead>\n",
       "  <tbody>\n",
       "    <tr>\n",
       "      <th>0</th>\n",
       "      <td>6nGs7MpyrZBxQGqP7QZUE5</td>\n",
       "      <td>danceability</td>\n",
       "      <td>0.640</td>\n",
       "    </tr>\n",
       "    <tr>\n",
       "      <th>1</th>\n",
       "      <td>5225kdD75Gt1JV7aBRcPab</td>\n",
       "      <td>danceability</td>\n",
       "      <td>0.613</td>\n",
       "    </tr>\n",
       "    <tr>\n",
       "      <th>2</th>\n",
       "      <td>0FDfWO6EY4JCJ1qyZV61bj</td>\n",
       "      <td>danceability</td>\n",
       "      <td>0.655</td>\n",
       "    </tr>\n",
       "    <tr>\n",
       "      <th>3</th>\n",
       "      <td>1WgWROzKGHOXJg141yIV3V</td>\n",
       "      <td>danceability</td>\n",
       "      <td>0.730</td>\n",
       "    </tr>\n",
       "    <tr>\n",
       "      <th>4</th>\n",
       "      <td>4mkjTB0pCowcxXvTDldEOC</td>\n",
       "      <td>danceability</td>\n",
       "      <td>0.840</td>\n",
       "    </tr>\n",
       "    <tr>\n",
       "      <th>...</th>\n",
       "      <td>...</td>\n",
       "      <td>...</td>\n",
       "      <td>...</td>\n",
       "    </tr>\n",
       "    <tr>\n",
       "      <th>14083</th>\n",
       "      <td>6lkBUo1eF422uPCrFJrVEQ</td>\n",
       "      <td>valence</td>\n",
       "      <td>0.116</td>\n",
       "    </tr>\n",
       "    <tr>\n",
       "      <th>14084</th>\n",
       "      <td>14zrmCf0dVPaS5iFFUKIK1</td>\n",
       "      <td>valence</td>\n",
       "      <td>0.967</td>\n",
       "    </tr>\n",
       "    <tr>\n",
       "      <th>14085</th>\n",
       "      <td>1hVgSEi1qKBOlACdHGt8vQ</td>\n",
       "      <td>valence</td>\n",
       "      <td>0.236</td>\n",
       "    </tr>\n",
       "    <tr>\n",
       "      <th>14086</th>\n",
       "      <td>0eqFasz9SX1iE9IgyYONhc</td>\n",
       "      <td>valence</td>\n",
       "      <td>0.750</td>\n",
       "    </tr>\n",
       "    <tr>\n",
       "      <th>14087</th>\n",
       "      <td>1a8JXGNz4a9gmiAdEKUpks</td>\n",
       "      <td>valence</td>\n",
       "      <td>0.275</td>\n",
       "    </tr>\n",
       "  </tbody>\n",
       "</table>\n",
       "<p>14088 rows × 3 columns</p>\n",
       "</div>"
      ],
      "text/plain": [
       "                           id       feature  value\n",
       "0      6nGs7MpyrZBxQGqP7QZUE5  danceability  0.640\n",
       "1      5225kdD75Gt1JV7aBRcPab  danceability  0.613\n",
       "2      0FDfWO6EY4JCJ1qyZV61bj  danceability  0.655\n",
       "3      1WgWROzKGHOXJg141yIV3V  danceability  0.730\n",
       "4      4mkjTB0pCowcxXvTDldEOC  danceability  0.840\n",
       "...                       ...           ...    ...\n",
       "14083  6lkBUo1eF422uPCrFJrVEQ       valence  0.116\n",
       "14084  14zrmCf0dVPaS5iFFUKIK1       valence  0.967\n",
       "14085  1hVgSEi1qKBOlACdHGt8vQ       valence  0.236\n",
       "14086  0eqFasz9SX1iE9IgyYONhc       valence  0.750\n",
       "14087  1a8JXGNz4a9gmiAdEKUpks       valence  0.275\n",
       "\n",
       "[14088 rows x 3 columns]"
      ]
     },
     "execution_count": 6,
     "metadata": {},
     "output_type": "execute_result"
    }
   ],
   "source": [
    "unpivoted_features = df_features[[\n",
    "        'id', 'danceability', 'energy', 'mode', 'speechiness',\n",
    "       'acousticness', 'instrumentalness', 'liveness', 'valence'\n",
    "]].melt(\n",
    "    id_vars='id', \n",
    "    var_name='feature', \n",
    "    value_name='value'\n",
    ")\n",
    "unpivoted_features"
   ]
  },
  {
   "cell_type": "code",
   "execution_count": null,
   "id": "d2043d17-894e-4759-9df0-9d83ae6f54dd",
   "metadata": {},
   "outputs": [],
   "source": [
    "unpivoted_features.to_csv('features_mood_unpivot.csv')"
   ]
  },
  {
   "cell_type": "markdown",
   "id": "5fbfeba8-339e-476b-a585-8e7b31e8f720",
   "metadata": {},
   "source": [
    "### Track details"
   ]
  },
  {
   "cell_type": "markdown",
   "id": "24f362cb-07db-4724-8e0d-7ca5a7761809",
   "metadata": {},
   "source": [
    "Here, I did the same process I did with the audio features. After that I create two tables: the first contains only the track details, and the second is a joined table of the tracks details and audio features tables."
   ]
  },
  {
   "cell_type": "code",
   "execution_count": 245,
   "id": "306060bf-b754-4487-8b58-8a54410bd03c",
   "metadata": {},
   "outputs": [],
   "source": [
    "track_feature = pd.read_csv('spotify_audio_features.csv')"
   ]
  },
  {
   "cell_type": "code",
   "execution_count": 231,
   "id": "f22b1bcd-5d80-4625-9cc6-3473e9816d8e",
   "metadata": {},
   "outputs": [],
   "source": [
    "track_id_list = track_feature['id'].unique()\n",
    "track_list = []\n",
    "counter = 0\n",
    "\n",
    "for interval in range(0, len(track_id_list), 50):\n",
    "    if len(track_id_list) - (counter + 50) > 0:\n",
    "        track_list += sp.tracks(track_id_list[interval:interval+50])['tracks']\n",
    "    else: \n",
    "        track_list += sp.tracks(track_id_list[interval:])['tracks']\n",
    "    counter += 50   "
   ]
  },
  {
   "cell_type": "code",
   "execution_count": 236,
   "id": "ef834c26-023a-4012-b58d-be96323fa849",
   "metadata": {},
   "outputs": [],
   "source": [
    "df_track = pd.json_normalize(track_list)"
   ]
  },
  {
   "cell_type": "code",
   "execution_count": 260,
   "id": "edc0a745-2566-4e3a-8d84-3b73e620c899",
   "metadata": {},
   "outputs": [],
   "source": [
    "df_track.to_csv('track_details.csv', index=False)"
   ]
  },
  {
   "cell_type": "markdown",
   "id": "850e9567-6c69-4ccc-80de-96c9dc4eaaeb",
   "metadata": {},
   "source": [
    "Selecting only the important columns for me"
   ]
  },
  {
   "cell_type": "code",
   "execution_count": 239,
   "id": "a6210325-498a-438f-896b-74a7f10e8a3e",
   "metadata": {},
   "outputs": [],
   "source": [
    "df_track = df_track[\n",
    "    [\n",
    "       'duration_ms', 'explicit', 'id', 'name', 'popularity',\n",
    "       'album.external_urls.spotify', 'album.id',\n",
    "       'album.name', 'external_urls.spotify'\n",
    "    ]\n",
    "]"
   ]
  },
  {
   "cell_type": "code",
   "execution_count": null,
   "id": "85c87c28-34cf-430a-bf56-9d91af47ae05",
   "metadata": {},
   "outputs": [],
   "source": []
  },
  {
   "cell_type": "code",
   "execution_count": 248,
   "id": "244873e0-016b-474e-a791-f3426f40bb7a",
   "metadata": {},
   "outputs": [
    {
     "data": {
      "text/plain": [
       "Index(['danceability', 'energy', 'key', 'loudness', 'mode', 'speechiness',\n",
       "       'acousticness', 'instrumentalness', 'liveness', 'valence', 'tempo',\n",
       "       'type', 'id', 'uri', 'track_href', 'analysis_url', 'duration_ms',\n",
       "       'time_signature'],\n",
       "      dtype='object')"
      ]
     },
     "execution_count": 248,
     "metadata": {},
     "output_type": "execute_result"
    }
   ],
   "source": [
    "track_feature.columns"
   ]
  },
  {
   "cell_type": "code",
   "execution_count": 254,
   "id": "be445fc5-df3c-469d-93b2-3ffd8897c3d2",
   "metadata": {},
   "outputs": [],
   "source": [
    "df_feature = track_feature[[\n",
    "    'danceability', 'energy', 'key', 'loudness', 'mode', 'speechiness',\n",
    "       'acousticness', 'instrumentalness', 'liveness', 'valence', 'tempo',\n",
    "       'id', 'time_signature'\n",
    "]]"
   ]
  },
  {
   "cell_type": "code",
   "execution_count": 255,
   "id": "0859c430-0e26-439e-b10c-be9c4e5e792d",
   "metadata": {},
   "outputs": [],
   "source": [
    "df_track_details = track_feature.merge(df_track, on='id')"
   ]
  },
  {
   "cell_type": "code",
   "execution_count": 259,
   "id": "bd773e7b-9578-4ffe-bb01-0726db68d844",
   "metadata": {},
   "outputs": [
    {
     "data": {
      "text/html": [
       "<div>\n",
       "<style scoped>\n",
       "    .dataframe tbody tr th:only-of-type {\n",
       "        vertical-align: middle;\n",
       "    }\n",
       "\n",
       "    .dataframe tbody tr th {\n",
       "        vertical-align: top;\n",
       "    }\n",
       "\n",
       "    .dataframe thead th {\n",
       "        text-align: right;\n",
       "    }\n",
       "</style>\n",
       "<table border=\"1\" class=\"dataframe\">\n",
       "  <thead>\n",
       "    <tr style=\"text-align: right;\">\n",
       "      <th></th>\n",
       "      <th>danceability</th>\n",
       "      <th>energy</th>\n",
       "      <th>key</th>\n",
       "      <th>loudness</th>\n",
       "      <th>mode</th>\n",
       "      <th>speechiness</th>\n",
       "      <th>acousticness</th>\n",
       "      <th>instrumentalness</th>\n",
       "      <th>liveness</th>\n",
       "      <th>valence</th>\n",
       "      <th>...</th>\n",
       "      <th>duration_ms_x</th>\n",
       "      <th>time_signature</th>\n",
       "      <th>duration_ms_y</th>\n",
       "      <th>explicit</th>\n",
       "      <th>name</th>\n",
       "      <th>popularity</th>\n",
       "      <th>album.external_urls.spotify</th>\n",
       "      <th>album.id</th>\n",
       "      <th>album.name</th>\n",
       "      <th>external_urls.spotify</th>\n",
       "    </tr>\n",
       "  </thead>\n",
       "  <tbody>\n",
       "    <tr>\n",
       "      <th>0</th>\n",
       "      <td>0.640</td>\n",
       "      <td>0.404</td>\n",
       "      <td>0</td>\n",
       "      <td>-6.813</td>\n",
       "      <td>1</td>\n",
       "      <td>0.0560</td>\n",
       "      <td>0.913</td>\n",
       "      <td>0.867</td>\n",
       "      <td>0.139</td>\n",
       "      <td>0.112</td>\n",
       "      <td>...</td>\n",
       "      <td>128000</td>\n",
       "      <td>4</td>\n",
       "      <td>128000</td>\n",
       "      <td>False</td>\n",
       "      <td>yearning</td>\n",
       "      <td>32</td>\n",
       "      <td>https://open.spotify.com/album/5FWI6x6yx5GCzeK...</td>\n",
       "      <td>5FWI6x6yx5GCzeKHUWhvTj</td>\n",
       "      <td>nostalgia</td>\n",
       "      <td>https://open.spotify.com/track/6nGs7MpyrZBxQGq...</td>\n",
       "    </tr>\n",
       "    <tr>\n",
       "      <th>1</th>\n",
       "      <td>0.613</td>\n",
       "      <td>0.142</td>\n",
       "      <td>5</td>\n",
       "      <td>-9.796</td>\n",
       "      <td>0</td>\n",
       "      <td>0.0497</td>\n",
       "      <td>0.859</td>\n",
       "      <td>0.896</td>\n",
       "      <td>0.109</td>\n",
       "      <td>0.472</td>\n",
       "      <td>...</td>\n",
       "      <td>130547</td>\n",
       "      <td>4</td>\n",
       "      <td>130547</td>\n",
       "      <td>False</td>\n",
       "      <td>Hylla</td>\n",
       "      <td>37</td>\n",
       "      <td>https://open.spotify.com/album/3MpDoKBQOIuvE1A...</td>\n",
       "      <td>3MpDoKBQOIuvE1AJDD7DPP</td>\n",
       "      <td>peaceful weibs</td>\n",
       "      <td>https://open.spotify.com/track/5225kdD75Gt1JV7...</td>\n",
       "    </tr>\n",
       "    <tr>\n",
       "      <th>2</th>\n",
       "      <td>0.655</td>\n",
       "      <td>0.329</td>\n",
       "      <td>8</td>\n",
       "      <td>-11.925</td>\n",
       "      <td>1</td>\n",
       "      <td>0.0592</td>\n",
       "      <td>0.771</td>\n",
       "      <td>0.753</td>\n",
       "      <td>0.111</td>\n",
       "      <td>0.251</td>\n",
       "      <td>...</td>\n",
       "      <td>128000</td>\n",
       "      <td>3</td>\n",
       "      <td>128000</td>\n",
       "      <td>False</td>\n",
       "      <td>Fable</td>\n",
       "      <td>7</td>\n",
       "      <td>https://open.spotify.com/album/6qNQZd5QM0Vy2Uu...</td>\n",
       "      <td>6qNQZd5QM0Vy2UukSykXvM</td>\n",
       "      <td>Fable</td>\n",
       "      <td>https://open.spotify.com/track/0FDfWO6EY4JCJ1q...</td>\n",
       "    </tr>\n",
       "  </tbody>\n",
       "</table>\n",
       "<p>3 rows × 26 columns</p>\n",
       "</div>"
      ],
      "text/plain": [
       "   danceability  energy  key  loudness  mode  speechiness  acousticness  \\\n",
       "0         0.640   0.404    0    -6.813     1       0.0560         0.913   \n",
       "1         0.613   0.142    5    -9.796     0       0.0497         0.859   \n",
       "2         0.655   0.329    8   -11.925     1       0.0592         0.771   \n",
       "\n",
       "   instrumentalness  liveness  valence  ...  duration_ms_x time_signature  \\\n",
       "0             0.867     0.139    0.112  ...         128000              4   \n",
       "1             0.896     0.109    0.472  ...         130547              4   \n",
       "2             0.753     0.111    0.251  ...         128000              3   \n",
       "\n",
       "  duration_ms_y explicit      name popularity  \\\n",
       "0        128000    False  yearning         32   \n",
       "1        130547    False     Hylla         37   \n",
       "2        128000    False     Fable          7   \n",
       "\n",
       "                         album.external_urls.spotify                album.id  \\\n",
       "0  https://open.spotify.com/album/5FWI6x6yx5GCzeK...  5FWI6x6yx5GCzeKHUWhvTj   \n",
       "1  https://open.spotify.com/album/3MpDoKBQOIuvE1A...  3MpDoKBQOIuvE1AJDD7DPP   \n",
       "2  https://open.spotify.com/album/6qNQZd5QM0Vy2Uu...  6qNQZd5QM0Vy2UukSykXvM   \n",
       "\n",
       "       album.name                              external_urls.spotify  \n",
       "0       nostalgia  https://open.spotify.com/track/6nGs7MpyrZBxQGq...  \n",
       "1  peaceful weibs  https://open.spotify.com/track/5225kdD75Gt1JV7...  \n",
       "2           Fable  https://open.spotify.com/track/0FDfWO6EY4JCJ1q...  \n",
       "\n",
       "[3 rows x 26 columns]"
      ]
     },
     "execution_count": 259,
     "metadata": {},
     "output_type": "execute_result"
    }
   ],
   "source": [
    "df_track_details.head(3)"
   ]
  },
  {
   "cell_type": "code",
   "execution_count": 258,
   "id": "590a3b55-303e-483f-91a1-53bea0d3221c",
   "metadata": {},
   "outputs": [],
   "source": [
    "df_track_details.to_csv('track_details_features.csv', index=False)"
   ]
  },
  {
   "cell_type": "code",
   "execution_count": null,
   "id": "29679910-fa54-477f-b533-c715239a972f",
   "metadata": {},
   "outputs": [],
   "source": []
  }
 ],
 "metadata": {
  "kernelspec": {
   "display_name": "aula",
   "language": "python",
   "name": "aula"
  },
  "language_info": {
   "codemirror_mode": {
    "name": "ipython",
    "version": 3
   },
   "file_extension": ".py",
   "mimetype": "text/x-python",
   "name": "python",
   "nbconvert_exporter": "python",
   "pygments_lexer": "ipython3",
   "version": "3.8.10"
  }
 },
 "nbformat": 4,
 "nbformat_minor": 5
}
