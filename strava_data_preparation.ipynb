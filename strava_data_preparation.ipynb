{
 "cells": [
  {
   "cell_type": "code",
   "execution_count": 41,
   "id": "33b5c9d8-08fe-436e-a6e7-99ac83f0a6c2",
   "metadata": {},
   "outputs": [
    {
     "name": "stdout",
     "output_type": "stream",
     "text": [
      "Requirement already satisfied: gpx-converter in c:\\users\\patry\\anaconda3\\envs\\aula\\lib\\site-packages (1.7.4)\n",
      "Requirement already satisfied: numpy>=1.18.1 in c:\\users\\patry\\anaconda3\\envs\\aula\\lib\\site-packages (from gpx-converter) (1.20.2)\n",
      "Requirement already satisfied: pandas>=1.0.3 in c:\\users\\patry\\anaconda3\\envs\\aula\\lib\\site-packages (from gpx-converter) (1.3.0)\n",
      "Requirement already satisfied: gpxpy>=1.4.0 in c:\\users\\patry\\anaconda3\\envs\\aula\\lib\\site-packages (from gpx-converter) (1.4.2)\n",
      "Requirement already satisfied: python-dateutil>=2.7.3 in c:\\users\\patry\\anaconda3\\envs\\aula\\lib\\site-packages (from pandas>=1.0.3->gpx-converter) (2.8.1)\n",
      "Requirement already satisfied: pytz>=2017.3 in c:\\users\\patry\\anaconda3\\envs\\aula\\lib\\site-packages (from pandas>=1.0.3->gpx-converter) (2021.1)\n",
      "Requirement already satisfied: six>=1.5 in c:\\users\\patry\\anaconda3\\envs\\aula\\lib\\site-packages (from python-dateutil>=2.7.3->pandas>=1.0.3->gpx-converter) (1.16.0)\n"
     ]
    }
   ],
   "source": [
    "# !pip install -U gpx-converter"
   ]
  },
  {
   "cell_type": "code",
   "execution_count": 2,
   "id": "3426ddb9-75fd-45cb-b2d9-742c003a7774",
   "metadata": {},
   "outputs": [],
   "source": [
    "import os\n",
    "import pandas as pd\n",
    "from gpx_converter import Converter"
   ]
  },
  {
   "cell_type": "markdown",
   "id": "15aa6b0a-fec6-435d-b6ed-71d2e9af8955",
   "metadata": {},
   "source": [
    "### Each activity has its coordinates saved in GPS files. So I needed to iterate, convert these files to dataframe, and then concatenate them"
   ]
  },
  {
   "cell_type": "markdown",
   "id": "4bd1d75d-c083-409f-a43b-682fe94cfdcf",
   "metadata": {},
   "source": [
    "Iterating"
   ]
  },
  {
   "cell_type": "code",
   "execution_count": 5,
   "id": "13361fc3-32c4-4d5e-870a-7e1a600a9c8a",
   "metadata": {},
   "outputs": [],
   "source": [
    "files = [file for file in next(os.walk('.'))[2] if '.gpx' in file]"
   ]
  },
  {
   "cell_type": "markdown",
   "id": "b9ca84a5-e02b-4908-8dd5-e3adac061b80",
   "metadata": {},
   "source": [
    "So I convert"
   ]
  },
  {
   "cell_type": "code",
   "execution_count": 6,
   "id": "367731b8-c1ad-40e5-95fa-de602c73b9a8",
   "metadata": {},
   "outputs": [],
   "source": [
    "df = Converter(input_file=files[0]).gpx_to_dataframe()"
   ]
  },
  {
   "cell_type": "markdown",
   "id": "1f5eb2aa-ea09-4fbb-b55c-7a03a29dc379",
   "metadata": {},
   "source": [
    "And I use the name of the file to create a ID column"
   ]
  },
  {
   "cell_type": "code",
   "execution_count": 7,
   "id": "54a9c6b2-0d04-4e8b-826a-2e734c2368c9",
   "metadata": {},
   "outputs": [],
   "source": [
    "df['id'] = files[0][:-4]"
   ]
  },
  {
   "cell_type": "markdown",
   "id": "a4c84438-e65f-4bd5-98cd-c93226e6bd0a",
   "metadata": {},
   "source": [
    "Finnaly I did that with all the activity files "
   ]
  },
  {
   "cell_type": "code",
   "execution_count": 8,
   "id": "0cd34259-f6d4-4df8-9d60-5095c19424a3",
   "metadata": {
    "tags": []
   },
   "outputs": [],
   "source": [
    "for file in files[1:]:\n",
    "#     print(file)\n",
    "    converted = Converter(input_file=file).gpx_to_dataframe()\n",
    "    converted['id'] = file[:-4]\n",
    "    \n",
    "    df = pd.concat([df, converted])"
   ]
  },
  {
   "cell_type": "code",
   "execution_count": 9,
   "id": "1dc91c40-d1f8-44f1-8149-e54d60869d85",
   "metadata": {},
   "outputs": [
    {
     "data": {
      "text/plain": [
       "(730708, 5)"
      ]
     },
     "execution_count": 9,
     "metadata": {},
     "output_type": "execute_result"
    }
   ],
   "source": [
    "df.shape"
   ]
  },
  {
   "cell_type": "code",
   "execution_count": 10,
   "id": "179b021c-434b-4846-ab05-839c7a8dd829",
   "metadata": {},
   "outputs": [
    {
     "data": {
      "text/plain": [
       "179"
      ]
     },
     "execution_count": 10,
     "metadata": {},
     "output_type": "execute_result"
    }
   ],
   "source": [
    "len(df.id.unique())"
   ]
  },
  {
   "cell_type": "code",
   "execution_count": 61,
   "id": "b2a041b8-2a36-4ff9-bc63-ae27769ec36f",
   "metadata": {},
   "outputs": [],
   "source": [
    "df.to_csv('trajetos_patryck.csv', index=False)"
   ]
  },
  {
   "cell_type": "code",
   "execution_count": 11,
   "id": "a5a7a35c-7083-4019-89e7-d4d108ac566c",
   "metadata": {},
   "outputs": [
    {
     "data": {
      "text/html": [
       "<div>\n",
       "<style scoped>\n",
       "    .dataframe tbody tr th:only-of-type {\n",
       "        vertical-align: middle;\n",
       "    }\n",
       "\n",
       "    .dataframe tbody tr th {\n",
       "        vertical-align: top;\n",
       "    }\n",
       "\n",
       "    .dataframe thead th {\n",
       "        text-align: right;\n",
       "    }\n",
       "</style>\n",
       "<table border=\"1\" class=\"dataframe\">\n",
       "  <thead>\n",
       "    <tr style=\"text-align: right;\">\n",
       "      <th></th>\n",
       "      <th>time</th>\n",
       "      <th>latitude</th>\n",
       "      <th>longitude</th>\n",
       "      <th>altitude</th>\n",
       "      <th>id</th>\n",
       "    </tr>\n",
       "  </thead>\n",
       "  <tbody>\n",
       "    <tr>\n",
       "      <th>0</th>\n",
       "      <td>2018-05-08 16:49:03+00:00</td>\n",
       "      <td>-3.839206</td>\n",
       "      <td>-38.574963</td>\n",
       "      <td>50.8</td>\n",
       "      <td>1558203650</td>\n",
       "    </tr>\n",
       "    <tr>\n",
       "      <th>1</th>\n",
       "      <td>2018-05-08 16:49:04+00:00</td>\n",
       "      <td>-3.839188</td>\n",
       "      <td>-38.574928</td>\n",
       "      <td>50.6</td>\n",
       "      <td>1558203650</td>\n",
       "    </tr>\n",
       "    <tr>\n",
       "      <th>2</th>\n",
       "      <td>2018-05-08 16:49:05+00:00</td>\n",
       "      <td>-3.839272</td>\n",
       "      <td>-38.574899</td>\n",
       "      <td>50.3</td>\n",
       "      <td>1558203650</td>\n",
       "    </tr>\n",
       "    <tr>\n",
       "      <th>3</th>\n",
       "      <td>2018-05-08 16:49:06+00:00</td>\n",
       "      <td>-3.839317</td>\n",
       "      <td>-38.574854</td>\n",
       "      <td>50.2</td>\n",
       "      <td>1558203650</td>\n",
       "    </tr>\n",
       "    <tr>\n",
       "      <th>4</th>\n",
       "      <td>2018-05-08 16:49:07+00:00</td>\n",
       "      <td>-3.839309</td>\n",
       "      <td>-38.574940</td>\n",
       "      <td>50.0</td>\n",
       "      <td>1558203650</td>\n",
       "    </tr>\n",
       "    <tr>\n",
       "      <th>...</th>\n",
       "      <td>...</td>\n",
       "      <td>...</td>\n",
       "      <td>...</td>\n",
       "      <td>...</td>\n",
       "      <td>...</td>\n",
       "    </tr>\n",
       "    <tr>\n",
       "      <th>4532</th>\n",
       "      <td>2020-01-27 03:12:11+00:00</td>\n",
       "      <td>-3.838124</td>\n",
       "      <td>-38.576301</td>\n",
       "      <td>43.5</td>\n",
       "      <td>3047059494</td>\n",
       "    </tr>\n",
       "    <tr>\n",
       "      <th>4533</th>\n",
       "      <td>2020-01-27 03:12:27+00:00</td>\n",
       "      <td>-3.838148</td>\n",
       "      <td>-38.576315</td>\n",
       "      <td>43.3</td>\n",
       "      <td>3047059494</td>\n",
       "    </tr>\n",
       "    <tr>\n",
       "      <th>4534</th>\n",
       "      <td>2020-01-27 03:12:58+00:00</td>\n",
       "      <td>-3.838085</td>\n",
       "      <td>-38.576294</td>\n",
       "      <td>42.9</td>\n",
       "      <td>3047059494</td>\n",
       "    </tr>\n",
       "    <tr>\n",
       "      <th>4535</th>\n",
       "      <td>2020-01-27 03:13:02+00:00</td>\n",
       "      <td>-3.838054</td>\n",
       "      <td>-38.576318</td>\n",
       "      <td>42.7</td>\n",
       "      <td>3047059494</td>\n",
       "    </tr>\n",
       "    <tr>\n",
       "      <th>4536</th>\n",
       "      <td>2020-01-27 03:13:25+00:00</td>\n",
       "      <td>-3.838038</td>\n",
       "      <td>-38.576294</td>\n",
       "      <td>42.5</td>\n",
       "      <td>3047059494</td>\n",
       "    </tr>\n",
       "  </tbody>\n",
       "</table>\n",
       "<p>730708 rows × 5 columns</p>\n",
       "</div>"
      ],
      "text/plain": [
       "                          time  latitude  longitude  altitude          id\n",
       "0    2018-05-08 16:49:03+00:00 -3.839206 -38.574963      50.8  1558203650\n",
       "1    2018-05-08 16:49:04+00:00 -3.839188 -38.574928      50.6  1558203650\n",
       "2    2018-05-08 16:49:05+00:00 -3.839272 -38.574899      50.3  1558203650\n",
       "3    2018-05-08 16:49:06+00:00 -3.839317 -38.574854      50.2  1558203650\n",
       "4    2018-05-08 16:49:07+00:00 -3.839309 -38.574940      50.0  1558203650\n",
       "...                        ...       ...        ...       ...         ...\n",
       "4532 2020-01-27 03:12:11+00:00 -3.838124 -38.576301      43.5  3047059494\n",
       "4533 2020-01-27 03:12:27+00:00 -3.838148 -38.576315      43.3  3047059494\n",
       "4534 2020-01-27 03:12:58+00:00 -3.838085 -38.576294      42.9  3047059494\n",
       "4535 2020-01-27 03:13:02+00:00 -3.838054 -38.576318      42.7  3047059494\n",
       "4536 2020-01-27 03:13:25+00:00 -3.838038 -38.576294      42.5  3047059494\n",
       "\n",
       "[730708 rows x 5 columns]"
      ]
     },
     "execution_count": 11,
     "metadata": {},
     "output_type": "execute_result"
    }
   ],
   "source": [
    "df"
   ]
  },
  {
   "cell_type": "code",
   "execution_count": null,
   "id": "ae6e3a68-2478-4414-9295-8c57897f9b81",
   "metadata": {},
   "outputs": [],
   "source": []
  }
 ],
 "metadata": {
  "kernelspec": {
   "display_name": "aula",
   "language": "python",
   "name": "aula"
  },
  "language_info": {
   "codemirror_mode": {
    "name": "ipython",
    "version": 3
   },
   "file_extension": ".py",
   "mimetype": "text/x-python",
   "name": "python",
   "nbconvert_exporter": "python",
   "pygments_lexer": "ipython3",
   "version": "3.8.10"
  }
 },
 "nbformat": 4,
 "nbformat_minor": 5
}
